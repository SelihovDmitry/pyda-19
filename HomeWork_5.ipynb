{
 "cells": [
  {
   "cell_type": "markdown",
   "metadata": {},
   "source": [
    "1. Переведите содержимое файла purchase_log.txt в словарь purchases вида:\n",
    "{‘1840e0b9d4’: ‘Продукты’, …}"
   ]
  },
  {
   "cell_type": "markdown",
   "metadata": {},
   "source": [
    "### Тренировка"
   ]
  },
  {
   "cell_type": "code",
   "execution_count": 1,
   "metadata": {},
   "outputs": [],
   "source": [
    "f = open('purchase_log.txt', 'r', encoding='utf-8')"
   ]
  },
  {
   "cell_type": "code",
   "execution_count": 2,
   "metadata": {},
   "outputs": [
    {
     "data": {
      "text/plain": [
       "'{\"user_id\": \"user_id\", \"category\": \"category\"}\\n'"
      ]
     },
     "execution_count": 2,
     "metadata": {},
     "output_type": "execute_result"
    }
   ],
   "source": [
    "f.readline()"
   ]
  },
  {
   "cell_type": "code",
   "execution_count": 3,
   "metadata": {},
   "outputs": [
    {
     "data": {
      "text/plain": [
       "'{\"user_id\": \"1840e0b9d4\", \"category\": \"Продукты\"}'"
      ]
     },
     "execution_count": 3,
     "metadata": {},
     "output_type": "execute_result"
    }
   ],
   "source": [
    "f.readline().strip()"
   ]
  },
  {
   "cell_type": "code",
   "execution_count": 5,
   "metadata": {},
   "outputs": [],
   "source": [
    "import json"
   ]
  },
  {
   "cell_type": "code",
   "execution_count": 6,
   "metadata": {},
   "outputs": [
    {
     "data": {
      "text/plain": [
       "{'user_id': '4e4f90fcfb', 'category': 'Электроника'}"
      ]
     },
     "execution_count": 6,
     "metadata": {},
     "output_type": "execute_result"
    }
   ],
   "source": [
    "dict1 = json.loads(f.readline().strip())\n",
    "dict1"
   ]
  },
  {
   "cell_type": "code",
   "execution_count": 7,
   "metadata": {},
   "outputs": [
    {
     "data": {
      "text/plain": [
       "{'4e4f90fcfb': 'Электроника'}"
      ]
     },
     "execution_count": 7,
     "metadata": {},
     "output_type": "execute_result"
    }
   ],
   "source": [
    "dict2 = {}\n",
    "dict2[dict1['user_id']] = dict1['category']\n",
    "dict2"
   ]
  },
  {
   "cell_type": "code",
   "execution_count": 8,
   "metadata": {},
   "outputs": [
    {
     "data": {
      "text/plain": [
       "0"
      ]
     },
     "execution_count": 8,
     "metadata": {},
     "output_type": "execute_result"
    }
   ],
   "source": [
    "f.seek(0)"
   ]
  },
  {
   "cell_type": "markdown",
   "metadata": {},
   "source": [
    "### Решение"
   ]
  },
  {
   "cell_type": "code",
   "execution_count": 9,
   "metadata": {},
   "outputs": [
    {
     "data": {
      "text/plain": [
       "{'1840e0b9d4': 'Продукты',\n",
       " '4e4f90fcfb': 'Электроника',\n",
       " 'afea8d72fc': 'Электроника',\n",
       " '373a6055fe': 'Бытовая техника',\n",
       " '9b2ab046f3': 'Электроника'}"
      ]
     },
     "execution_count": 9,
     "metadata": {},
     "output_type": "execute_result"
    }
   ],
   "source": [
    "# Этот блок для наглядности, что все правильно, записываем первые 5 значений строк (не считая строки заголовков)\n",
    "purchases = {}\n",
    "x = 0\n",
    "with open('purchase_log.txt', 'r', encoding='utf-8') as f:\n",
    "    f.readline() # перед циклом читаем (убираем) первую строку с заголовками.\n",
    "    for line in f:\n",
    "        line_dict = json.loads(line.strip())\n",
    "        purchases[line_dict['user_id']] = line_dict['category']\n",
    "        x += 1\n",
    "        if x > 4:\n",
    "            break\n",
    "purchases"
   ]
  },
  {
   "cell_type": "code",
   "execution_count": 10,
   "metadata": {},
   "outputs": [],
   "source": [
    "# записываем всю информацию из файла в словарь purchases в нужном формате\n",
    "purchases = {}\n",
    "with open('purchase_log.txt', 'r', encoding='utf-8') as f:\n",
    "    f.readline() # перед циклом читаем (убираем) первую строку с заголовками.\n",
    "    for line in f:\n",
    "        line_dict = json.loads(line.strip())\n",
    "        purchases[line_dict['user_id']] = line_dict['category']"
   ]
  },
  {
   "cell_type": "code",
   "execution_count": 11,
   "metadata": {},
   "outputs": [
    {
     "name": "stdout",
     "output_type": "stream",
     "text": [
      "1840e0b9d4 Продукты\n",
      "4e4f90fcfb Электроника\n",
      "afea8d72fc Электроника\n",
      "373a6055fe Бытовая техника\n",
      "9b2ab046f3 Электроника\n"
     ]
    }
   ],
   "source": [
    "x = 0\n",
    "for k, v in purchases.items():\n",
    "    print(k, v)\n",
    "    x += 1\n",
    "    if x > 4:\n",
    "        break"
   ]
  },
  {
   "cell_type": "markdown",
   "metadata": {},
   "source": [
    "2. Для каждого user_id в файле visit_log.csv определите третий столбец с категорией покупки (если покупка была, сам файл visit_log.csv изменять не надо). Запишите в файл funnel.csv визиты из файла visit_log.csv, в которых были покупки с указанием категории.\n",
    "Учтите условия на данные:\n",
    "содержимое purchase_log.txt помещается в оперативную память компьютера\n",
    "содержимое visit_log.csv - нет; используйте только построчную обработку этого файла"
   ]
  },
  {
   "cell_type": "markdown",
   "metadata": {},
   "source": [
    "### Тренировка"
   ]
  },
  {
   "cell_type": "code",
   "execution_count": 32,
   "metadata": {},
   "outputs": [],
   "source": [
    "f = open('visit_log.csv', 'r', encoding='utf-8')"
   ]
  },
  {
   "cell_type": "code",
   "execution_count": 34,
   "metadata": {},
   "outputs": [
    {
     "data": {
      "text/plain": [
       "'6450655ae8,other\\n'"
      ]
     },
     "execution_count": 34,
     "metadata": {},
     "output_type": "execute_result"
    }
   ],
   "source": [
    "f.readline()"
   ]
  },
  {
   "cell_type": "code",
   "execution_count": 36,
   "metadata": {},
   "outputs": [
    {
     "data": {
      "text/plain": [
       "['0e37347152', 'other']"
      ]
     },
     "execution_count": 36,
     "metadata": {},
     "output_type": "execute_result"
    }
   ],
   "source": [
    "f.readline().strip().split(',')"
   ]
  },
  {
   "cell_type": "markdown",
   "metadata": {},
   "source": [
    "### Решение"
   ]
  },
  {
   "cell_type": "code",
   "execution_count": 58,
   "metadata": {},
   "outputs": [
    {
     "name": "stdout",
     "output_type": "stream",
     "text": [
      "1840e0b9d4,other,Продукты\n",
      "\n",
      "4e4f90fcfb,context,Электроника\n",
      "\n",
      "afea8d72fc,other,Электроника\n",
      "\n",
      "2824221f38,email,Продукты\n",
      "\n",
      "373a6055fe,other,Бытовая техника\n",
      "\n",
      "9b2ab046f3,other,Электроника\n",
      "\n",
      "9f39d307c3,context,Электроника\n",
      "\n",
      "44edeffc91,context,Продукты\n",
      "\n"
     ]
    },
    {
     "data": {
      "text/plain": [
       "'44edeffc91,context,Продукты\\n'"
      ]
     },
     "execution_count": 58,
     "metadata": {},
     "output_type": "execute_result"
    }
   ],
   "source": [
    "# блок с прерыванием и выводом для наглядности\n",
    "with open('visit_log.csv', 'r', encoding='utf-8') as f:\n",
    "    with open('funnel.csv', 'w') as f_w:\n",
    "        x = 0\n",
    "        for line in f: # построчно читаем visit_log.csv\n",
    "            line_list = line.strip().split(',') # получаем из строки список, где 1-й элемент - user_id\n",
    "#             print(line[0])\n",
    "            if line_list[0] in purchases.keys(): # проверяем есть ли id клиента в ключах словаря purchses\n",
    "                # и если есть то пишем строку с категорией в файл (из словаря purchases по ключу line_list[0]\n",
    "                # т.е. по user_id, получаем категорию, перенос строки убираем из line и переносим в конец.\n",
    "                str_to_write = (line.strip() + ',' + purchases[line_list[0]] + '\\n') # тут может проще/изящней можно сделать,\n",
    "                        # нагуглил что-то про модуль csv (import csv), но вникать пока не стал.\n",
    "                print(str_to_write)\n",
    "                f_w.write(str_to_write)\n",
    "            else: # если id нет в словаре (не было покупок) записываем в файл исходную строку, но в условии это не надо\n",
    "                  # насколько я понял, ниже в рабочем блоке сделано без этого.\n",
    "                f_w.write(line)\n",
    "            x += 1\n",
    "            if x > 150:\n",
    "                break\n",
    "str_to_write"
   ]
  },
  {
   "cell_type": "code",
   "execution_count": 62,
   "metadata": {},
   "outputs": [],
   "source": [
    "# рабочий блок\n",
    "with open('visit_log.csv', 'r', encoding='utf-8') as f:\n",
    "    with open('funnel.csv', 'w') as f_w:\n",
    "        for line in f: # построчно читаем visit_log.csv\n",
    "            line_list = line.strip().split(',') # получаем из строки список, где 1-й элемент - user_id\n",
    "            if line_list[0] in purchases.keys(): # проверяем есть ли id клиента в ключах словаря purchses\n",
    "                # и если есть то пишем строку с категорией в файл (из словаря purchases по ключу line_list[0]\n",
    "                # т.е. по user_id, получаем категорию, перенос строки убираем из line и переносим в конец.\n",
    "                str_to_write = (line.strip() + ',' + purchases[line_list[0]] + '\\n') # тут может проще/изящней можно сделать,\n",
    "                        # нагуглил что-то про модуль csv (import csv), но вникать пока не стал.\n",
    "                f_w.write(str_to_write)"
   ]
  },
  {
   "cell_type": "code",
   "execution_count": 67,
   "metadata": {},
   "outputs": [
    {
     "name": "stdout",
     "output_type": "stream",
     "text": [
      "1840e0b9d4,other,Продукты\n",
      "\n",
      "4e4f90fcfb,context,Электроника\n",
      "\n",
      "afea8d72fc,other,Электроника\n",
      "\n",
      "2824221f38,email,Продукты\n",
      "\n",
      "373a6055fe,other,Бытовая техника\n",
      "\n"
     ]
    }
   ],
   "source": [
    "# прочитаем первые n строк из получившегося файла (по умолчанию 10)\n",
    "def read_funnel(n = 10):\n",
    "    with open('funnel.csv', 'r') as funnel:\n",
    "        x = 0\n",
    "        for line in funnel:\n",
    "            print(line)\n",
    "            x += 1\n",
    "            if x > n - 1:\n",
    "                break\n",
    "read_funnel(5)"
   ]
  }
 ],
 "metadata": {
  "kernelspec": {
   "display_name": "Python 3",
   "language": "python",
   "name": "python3"
  },
  "language_info": {
   "codemirror_mode": {
    "name": "ipython",
    "version": 3
   },
   "file_extension": ".py",
   "mimetype": "text/x-python",
   "name": "python",
   "nbconvert_exporter": "python",
   "pygments_lexer": "ipython3",
   "version": "3.8.5"
  }
 },
 "nbformat": 4,
 "nbformat_minor": 4
}
