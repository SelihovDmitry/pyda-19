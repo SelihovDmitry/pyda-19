{
 "cells": [
  {
   "cell_type": "markdown",
   "metadata": {},
   "source": [
    "### Задание 1\n",
    "Дана переменная, в которой хранится слово из латинских букв. Напишите код, который выводит на экран:\n",
    "\n",
    "- среднюю букву, если число букв в слове нечетное;\n",
    "- две средних буквы, если число букв четное."
   ]
  },
  {
   "cell_type": "code",
   "execution_count": 25,
   "metadata": {},
   "outputs": [
    {
     "name": "stdout",
     "output_type": "stream",
     "text": [
      "Введите слово \n",
      "sdfsgh\n",
      "fs\n"
     ]
    }
   ],
   "source": [
    "word = input('Введите слово \\n')\n",
    "x = len(word)\n",
    "if x % 2 != 0:\n",
    "    print(word[x // 2])\n",
    "else:\n",
    "    print(word[x//2-1]+word[x//2])"
   ]
  },
  {
   "cell_type": "markdown",
   "metadata": {},
   "source": [
    "### Задание 2\n",
    "Напишите программу, которая последовательно запрашивает у пользователя числа (по одному за раз) и после первого нуля выводит сумму всех ранее введенных чисел."
   ]
  },
  {
   "cell_type": "code",
   "execution_count": 32,
   "metadata": {},
   "outputs": [
    {
     "name": "stdout",
     "output_type": "stream",
     "text": [
      "Введите число:\n",
      "3\n",
      "Введите число:\n",
      "6\n",
      "Введите число:\n",
      "1\n",
      "Введите число:\n",
      "8\n",
      "Введите число:\n",
      "0\n",
      "Сумма введенных чисел равна: 18\n"
     ]
    }
   ],
   "source": [
    "x,y = 1,0\n",
    "while x != 0:\n",
    "    x = int(input('Введите число:\\n'))\n",
    "    y += x\n",
    "print(f'Сумма введенных чисел равна: {y}')"
   ]
  },
  {
   "cell_type": "markdown",
   "metadata": {},
   "source": [
    "### Задание 3\n",
    "Мы делаем MVP dating-сервиса, и у нас есть список парней и девушек.\n",
    "Выдвигаем гипотезу: лучшие рекомендации мы получим, если просто отсортируем имена по алфавиту и познакомим людей с одинаковыми индексами после сортировки! Но мы не будем никого знакомить, если кто-то может остаться без пары:"
   ]
  },
  {
   "cell_type": "code",
   "execution_count": 62,
   "metadata": {},
   "outputs": [
    {
     "name": "stdout",
     "output_type": "stream",
     "text": [
      "Введите имя парня или \"end\" для завершения ввода: Oleg\n",
      "Введите имя парня или \"end\" для завершения ввода: Kolya\n",
      "Введите имя парня или \"end\" для завершения ввода: Dima\n",
      "Введите имя парня или \"end\" для завершения ввода: end\n",
      "Введите имя девушки или \"end\" для завершения ввода: Olya\n",
      "Введите имя девушки или \"end\" для завершения ввода: Yulya\n",
      "Введите имя девушки или \"end\" для завершения ввода: Alya\n",
      "Введите имя девушки или \"end\" для завершения ввода: end\n",
      "\n",
      "Идеальные пары:\n",
      "Dima и Alya\n",
      "Kolya и Olya\n",
      "Oleg и Yulya\n"
     ]
    }
   ],
   "source": [
    "# объявление переменных\n",
    "boys = []\n",
    "girls = []\n",
    "\n",
    "# создаем список парней\n",
    "while True:\n",
    "    boy_name = input('Введите имя парня или \"end\" для завершения ввода: ')\n",
    "    if boy_name == 'end':\n",
    "        break\n",
    "    else:\n",
    "        boys.append(boy_name)\n",
    "sorted_boys =sorted(boys)\n",
    "# print(sorted_boys)\n",
    "# print(boys)\n",
    "\n",
    "# создаем список девушек\n",
    "while True:\n",
    "    girl_name = input('Введите имя девушки или \"end\" для завершения ввода: ')\n",
    "    if girl_name == 'end':\n",
    "        break\n",
    "    else:\n",
    "        girls.append(girl_name)\n",
    "sorted_girls = sorted(girls, reverse=False)\n",
    "# print(sorted_girls)\n",
    "# print(girls)\n",
    "\n",
    "kolvo_par = len(girls) # но можно и без этого, можно сразу в циклах писать len(girls) или len(boys)\n",
    "\n",
    "# формируем и выводим на печать пары\n",
    "if len(boys) == len(girls):\n",
    "    print('\\nИдеальные пары:')\n",
    "#    i = 0\n",
    "#     while i < kolvo_par:\n",
    "#         print(f'{sorted_boys[i]} и {sorted_girls[i]}')\n",
    "#         i += 1\n",
    "    for i in range(len(girls)):\n",
    "        print(f'{sorted_boys[i]} и {sorted_girls[i]}') # или через цикл for\n",
    "else:\n",
    "    print('Внимание, кто-то может остаться без пары!')"
   ]
  },
  {
   "cell_type": "markdown",
   "metadata": {},
   "source": [
    "### Задание 4\n",
    "У нас есть список, содержащий информацию о среднедневной температуре в Фаренгейтах за произвольный период по странам (структура данных в примере). Необходимо написать код, который рассчитает среднюю температуру за период в Цельсиях(!) для каждой страны."
   ]
  },
  {
   "cell_type": "code",
   "execution_count": 1,
   "metadata": {},
   "outputs": [
    {
     "data": {
      "text/plain": [
       "[['Thailand', [75.2, 77, 78.8, 73.4, 68, 75.2, 77]],\n",
       " ['Germany', [57.2, 55.4, 59, 59, 53.6]],\n",
       " ['Russia', [35.6, 37.4, 39.2, 41, 42.8, 39.2, 35.6]],\n",
       " ['Poland', [50, 50, 53.6, 57.2, 55.4, 55.4]]]"
      ]
     },
     "execution_count": 1,
     "metadata": {},
     "output_type": "execute_result"
    }
   ],
   "source": [
    "countries_temperature = [\n",
    "['Thailand', [75.2, 77, 78.8, 73.4, 68, 75.2, 77]],\n",
    "['Germany', [57.2, 55.4, 59, 59, 53.6]],\n",
    "['Russia', [35.6, 37.4, 39.2, 41, 42.8, 39.2, 35.6]],\n",
    "['Poland', [50, 50, 53.6, 57.2, 55.4, 55.4]]\n",
    "]\n",
    "countries_temperature"
   ]
  },
  {
   "cell_type": "code",
   "execution_count": 9,
   "metadata": {},
   "outputs": [
    {
     "data": {
      "text/plain": [
       "41"
      ]
     },
     "execution_count": 9,
     "metadata": {},
     "output_type": "execute_result"
    }
   ],
   "source": [
    "countries_temperature[2][1][3]"
   ]
  },
  {
   "cell_type": "code",
   "execution_count": 14,
   "metadata": {},
   "outputs": [
    {
     "data": {
      "text/plain": [
       "270.8"
      ]
     },
     "execution_count": 14,
     "metadata": {},
     "output_type": "execute_result"
    }
   ],
   "source": [
    "sum(countries_temperature[2][1])"
   ]
  },
  {
   "cell_type": "code",
   "execution_count": 12,
   "metadata": {},
   "outputs": [
    {
     "data": {
      "text/plain": [
       "7"
      ]
     },
     "execution_count": 12,
     "metadata": {},
     "output_type": "execute_result"
    }
   ],
   "source": [
    "len(countries_temperature[2][1])"
   ]
  },
  {
   "cell_type": "code",
   "execution_count": 2,
   "metadata": {},
   "outputs": [
    {
     "ename": "NameError",
     "evalue": "name 'avg' is not defined",
     "output_type": "error",
     "traceback": [
      "\u001b[1;31m---------------------------------------------------------------------------\u001b[0m",
      "\u001b[1;31mNameError\u001b[0m                                 Traceback (most recent call last)",
      "\u001b[1;32m<ipython-input-2-3e15dd9ca9fa>\u001b[0m in \u001b[0;36m<module>\u001b[1;34m\u001b[0m\n\u001b[1;32m----> 1\u001b[1;33m \u001b[0mavg\u001b[0m\u001b[1;33m(\u001b[0m\u001b[0mcountries_temperature\u001b[0m\u001b[1;33m[\u001b[0m\u001b[1;36m2\u001b[0m\u001b[1;33m]\u001b[0m\u001b[1;33m[\u001b[0m\u001b[1;36m1\u001b[0m\u001b[1;33m]\u001b[0m\u001b[1;33m)\u001b[0m\u001b[1;33m\u001b[0m\u001b[1;33m\u001b[0m\u001b[0m\n\u001b[0m",
      "\u001b[1;31mNameError\u001b[0m: name 'avg' is not defined"
     ]
    }
   ],
   "source": [
    "avg(countries_temperature[2][1])"
   ]
  },
  {
   "cell_type": "code",
   "execution_count": 3,
   "metadata": {},
   "outputs": [],
   "source": [
    "# напишем функцию вычисления среднего\n",
    "def avg(lst):\n",
    "    return sum(lst) / len(lst)"
   ]
  },
  {
   "cell_type": "code",
   "execution_count": 4,
   "metadata": {},
   "outputs": [
    {
     "data": {
      "text/plain": [
       "74.94285714285714"
      ]
     },
     "execution_count": 4,
     "metadata": {},
     "output_type": "execute_result"
    }
   ],
   "source": [
    "avg(countries_temperature[0][1])"
   ]
  },
  {
   "cell_type": "code",
   "execution_count": 16,
   "metadata": {},
   "outputs": [
    {
     "data": {
      "text/plain": [
       "4"
      ]
     },
     "execution_count": 16,
     "metadata": {},
     "output_type": "execute_result"
    }
   ],
   "source": [
    "len(countries_temperature)"
   ]
  },
  {
   "cell_type": "markdown",
   "metadata": {},
   "source": [
    "формула для перевода из фаренгейтов в цельсия: С = (5/9)*(F-32)"
   ]
  },
  {
   "cell_type": "code",
   "execution_count": 16,
   "metadata": {},
   "outputs": [
    {
     "name": "stdout",
     "output_type": "stream",
     "text": [
      "Средняя температура в странах:\n",
      "Thailand - 23.9\n",
      "Germany - 13.8\n",
      "Russia - 3.7\n",
      "Poland - 12.0\n"
     ]
    }
   ],
   "source": [
    "print('Средняя температура в странах:')\n",
    "for i in range(len(countries_temperature)):\n",
    "    avg_F = avg(countries_temperature[i][1])\n",
    "    avg_C = (5 / 9) * (avg_F - 32)\n",
    "    print(countries_temperature[i][0],'-',round(avg_C, 1))"
   ]
  },
  {
   "cell_type": "markdown",
   "metadata": {},
   "source": [
    "### Задание 5 (необязательное)\n",
    "Дан поток логов по количеству просмотренных страниц для каждого пользователя. Вам необходимо написать алгоритм, который считает среднее значение просмотров на пользователя. Т. е. надо посчитать отношение суммы всех просмотров к количеству уникальных пользователей."
   ]
  },
  {
   "cell_type": "code",
   "execution_count": 17,
   "metadata": {},
   "outputs": [
    {
     "data": {
      "text/plain": [
       "['2018-01-01,user1,3',\n",
       " '2018-01-07,user1,4',\n",
       " '2018-03-29,user1,1',\n",
       " '2018-04-04,user1,13',\n",
       " '2018-01-05,user2,7',\n",
       " '2018-06-14,user3,4',\n",
       " '2018-07-02,user3,10',\n",
       " '2018-03-21,user4,19',\n",
       " '2018-03-22,user4,4',\n",
       " '2018-04-22,user4,8',\n",
       " '2018-05-03,user4,9',\n",
       " '2018-05-11,user4,11']"
      ]
     },
     "execution_count": 17,
     "metadata": {},
     "output_type": "execute_result"
    }
   ],
   "source": [
    "stream = [\n",
    "'2018-01-01,user1,3',\n",
    "'2018-01-07,user1,4',\n",
    "'2018-03-29,user1,1',\n",
    "'2018-04-04,user1,13',\n",
    "'2018-01-05,user2,7',\n",
    "'2018-06-14,user3,4',\n",
    "'2018-07-02,user3,10',\n",
    "'2018-03-21,user4,19',\n",
    "'2018-03-22,user4,4',\n",
    "'2018-04-22,user4,8',\n",
    "'2018-05-03,user4,9',\n",
    "'2018-05-11,user4,11',\n",
    "]\n",
    "stream"
   ]
  },
  {
   "cell_type": "code",
   "execution_count": 28,
   "metadata": {},
   "outputs": [
    {
     "data": {
      "text/plain": [
       "['2018-01-07', 'user1', '4']"
      ]
     },
     "execution_count": 28,
     "metadata": {},
     "output_type": "execute_result"
    }
   ],
   "source": [
    "stream[1].split(',')"
   ]
  },
  {
   "cell_type": "code",
   "execution_count": 38,
   "metadata": {},
   "outputs": [
    {
     "data": {
      "text/plain": [
       "[['2018-01-01', 'user1', '3'],\n",
       " ['2018-01-07', 'user1', '4'],\n",
       " ['2018-03-29', 'user1', '1'],\n",
       " ['2018-04-04', 'user1', '13'],\n",
       " ['2018-01-05', 'user2', '7'],\n",
       " ['2018-06-14', 'user3', '4'],\n",
       " ['2018-07-02', 'user3', '10'],\n",
       " ['2018-03-21', 'user4', '19'],\n",
       " ['2018-03-22', 'user4', '4'],\n",
       " ['2018-04-22', 'user4', '8'],\n",
       " ['2018-05-03', 'user4', '9'],\n",
       " ['2018-05-11', 'user4', '11']]"
      ]
     },
     "execution_count": 38,
     "metadata": {},
     "output_type": "execute_result"
    }
   ],
   "source": [
    "# разделяем данные\n",
    "stream_split = []\n",
    "for i in range(len(stream)):\n",
    "    rec = stream[i].split(',')\n",
    "    stream_split.append(rec)\n",
    "stream_split"
   ]
  },
  {
   "cell_type": "code",
   "execution_count": 45,
   "metadata": {},
   "outputs": [
    {
     "data": {
      "text/plain": [
       "['user1',\n",
       " 'user1',\n",
       " 'user1',\n",
       " 'user1',\n",
       " 'user2',\n",
       " 'user3',\n",
       " 'user3',\n",
       " 'user4',\n",
       " 'user4',\n",
       " 'user4',\n",
       " 'user4',\n",
       " 'user4']"
      ]
     },
     "execution_count": 45,
     "metadata": {},
     "output_type": "execute_result"
    }
   ],
   "source": [
    "# выделяем уникальных пользователей\n",
    "users = []\n",
    "for i in range(len(stream_split)):\n",
    "    users.append(stream_split[i][1]) \n",
    "users"
   ]
  },
  {
   "cell_type": "code",
   "execution_count": 47,
   "metadata": {},
   "outputs": [
    {
     "data": {
      "text/plain": [
       "{'user1', 'user2', 'user3', 'user4'}"
      ]
     },
     "execution_count": 47,
     "metadata": {},
     "output_type": "execute_result"
    }
   ],
   "source": [
    "set(users)"
   ]
  },
  {
   "cell_type": "code",
   "execution_count": 49,
   "metadata": {},
   "outputs": [
    {
     "data": {
      "text/plain": [
       "4"
      ]
     },
     "execution_count": 49,
     "metadata": {},
     "output_type": "execute_result"
    }
   ],
   "source": [
    "len(set(users))"
   ]
  },
  {
   "cell_type": "code",
   "execution_count": 48,
   "metadata": {},
   "outputs": [
    {
     "data": {
      "text/plain": [
       "['user3', 'user2', 'user4', 'user1']"
      ]
     },
     "execution_count": 48,
     "metadata": {},
     "output_type": "execute_result"
    }
   ],
   "source": [
    "# если надо из множества перевести в список - делаем так (но для данной задачи это не нужно)\n",
    "# list_of_unique_users = []\n",
    "# unique_users = set(users)\n",
    "# for user in unique_users:\n",
    "#     list_of_unique_users.append(user)\n",
    "# list_of_unique_users"
   ]
  },
  {
   "cell_type": "code",
   "execution_count": 50,
   "metadata": {},
   "outputs": [
    {
     "data": {
      "text/plain": [
       "4"
      ]
     },
     "execution_count": 50,
     "metadata": {},
     "output_type": "execute_result"
    }
   ],
   "source": [
    "# len(list_of_unique_users)"
   ]
  },
  {
   "cell_type": "code",
   "execution_count": 52,
   "metadata": {},
   "outputs": [
    {
     "data": {
      "text/plain": [
       "93"
      ]
     },
     "execution_count": 52,
     "metadata": {},
     "output_type": "execute_result"
    }
   ],
   "source": [
    "# получаем общее кол-во просмотров \n",
    "sum_view = 0\n",
    "for i in range(len(stream_split)):\n",
    "    sum_view += int(stream_split[i][2])\n",
    "sum_view"
   ]
  },
  {
   "cell_type": "code",
   "execution_count": 53,
   "metadata": {},
   "outputs": [
    {
     "name": "stdout",
     "output_type": "stream",
     "text": [
      "Среднее количество просмотров на уникального пользователя: 23.25\n"
     ]
    }
   ],
   "source": [
    "# и делим на кол-во уникальных пользователей\n",
    "print('Среднее количество просмотров на уникального пользователя:', sum_view / len(set(users)))"
   ]
  },
  {
   "cell_type": "markdown",
   "metadata": {},
   "source": [
    "### Задание 6 (необязательное)\n",
    "Необходимо у пользователя запрашивать набор чисел разделенных пробелом. В результате должны выводиться числа, которые повторяются в вводе более одного раза."
   ]
  },
  {
   "cell_type": "code",
   "execution_count": 58,
   "metadata": {},
   "outputs": [
    {
     "name": "stdout",
     "output_type": "stream",
     "text": [
      "Введите набор чисел через пробел: 1 2 3 1\n"
     ]
    }
   ],
   "source": [
    "numbers = input('Введите набор чисел через пробел: ')"
   ]
  },
  {
   "cell_type": "code",
   "execution_count": 67,
   "metadata": {},
   "outputs": [
    {
     "data": {
      "text/plain": [
       "['1', '2', '3', '1']"
      ]
     },
     "execution_count": 67,
     "metadata": {},
     "output_type": "execute_result"
    }
   ],
   "source": [
    "list_of_number = numbers.split(' ')\n",
    "list_of_number"
   ]
  },
  {
   "cell_type": "code",
   "execution_count": 81,
   "metadata": {},
   "outputs": [
    {
     "data": {
      "text/plain": [
       "Counter({'1': 2, '2': 2, '45': 1, '87': 2, '15': 1})"
      ]
     },
     "execution_count": 81,
     "metadata": {},
     "output_type": "execute_result"
    }
   ],
   "source": [
    "from collections import Counter\n",
    "\n",
    "c = Counter(list_of_number)\n",
    "c"
   ]
  },
  {
   "cell_type": "code",
   "execution_count": 82,
   "metadata": {},
   "outputs": [
    {
     "name": "stdout",
     "output_type": "stream",
     "text": [
      "['1', '2', '45', '87', '15']\n",
      "[2, 2, 1, 2, 1]\n"
     ]
    }
   ],
   "source": [
    "print(list(c.keys()))\n",
    "print(list(c.values()))"
   ]
  },
  {
   "cell_type": "code",
   "execution_count": 84,
   "metadata": {},
   "outputs": [
    {
     "data": {
      "text/plain": [
       "[('1', 2), ('2', 2), ('45', 1), ('87', 2), ('15', 1)]"
      ]
     },
     "execution_count": 84,
     "metadata": {},
     "output_type": "execute_result"
    }
   ],
   "source": [
    "key_value = list(zip(list(c.keys()), list(c.values())))\n",
    "key_value"
   ]
  },
  {
   "cell_type": "code",
   "execution_count": 85,
   "metadata": {},
   "outputs": [
    {
     "data": {
      "text/plain": [
       "5"
      ]
     },
     "execution_count": 85,
     "metadata": {},
     "output_type": "execute_result"
    }
   ],
   "source": [
    "len(key_value)"
   ]
  },
  {
   "cell_type": "code",
   "execution_count": 88,
   "metadata": {},
   "outputs": [
    {
     "data": {
      "text/plain": [
       "int"
      ]
     },
     "execution_count": 88,
     "metadata": {},
     "output_type": "execute_result"
    }
   ],
   "source": [
    "type(key_value[0][1])"
   ]
  },
  {
   "cell_type": "code",
   "execution_count": 92,
   "metadata": {},
   "outputs": [
    {
     "name": "stdout",
     "output_type": "stream",
     "text": [
      "1  2  87  "
     ]
    }
   ],
   "source": [
    "for i in range(len(key_value)):\n",
    "    if key_value[i][1] > 1:\n",
    "        print(key_value[i][0],' ', end = '')"
   ]
  },
  {
   "cell_type": "markdown",
   "metadata": {},
   "source": [
    "#### Соединяем все в одном\n",
    "чтобы можно было запускать одной ячейкой"
   ]
  },
  {
   "cell_type": "code",
   "execution_count": null,
   "metadata": {},
   "outputs": [],
   "source": [
    "from collections import Counter # навернаяка можно и без этого, но не нашел как."
   ]
  },
  {
   "cell_type": "code",
   "execution_count": 94,
   "metadata": {},
   "outputs": [
    {
     "name": "stdout",
     "output_type": "stream",
     "text": [
      "Введите набор чисел через пробел: 1 22 22 1 5 64 87 95 64 64\n",
      "1  22  64  "
     ]
    }
   ],
   "source": [
    "numbers = input('Введите набор чисел через пробел: ')\n",
    "\n",
    "list_of_number = numbers.split(' ')\n",
    "\n",
    "c = Counter(list_of_number) # считаем кол-во вхождений элементов. \n",
    "\n",
    "key_value = list(zip(list(c.keys()), list(c.values()))) # ну... такое себе....\n",
    "\n",
    "# проверяем в цикле если значение (количество вхождений) для ключа(числа) больше 1, то печатаем имя ключа (наше число)\n",
    "for i in range(len(key_value)):\n",
    "    if key_value[i][1] > 1:\n",
    "        print(key_value[i][0],' ', end = '')"
   ]
  },
  {
   "cell_type": "code",
   "execution_count": 95,
   "metadata": {},
   "outputs": [
    {
     "name": "stdout",
     "output_type": "stream",
     "text": [
      "Counter({'64': 3, '1': 2, '22': 2, '5': 1, '87': 1, '95': 1})\n",
      "[('1', 2), ('22', 2), ('5', 1), ('64', 3), ('87', 1), ('95', 1)]\n"
     ]
    }
   ],
   "source": [
    "# выведу промежуточные переменные для наглядности что происходит:\n",
    "print(c)\n",
    "print(key_value)"
   ]
  }
 ],
 "metadata": {
  "kernelspec": {
   "display_name": "Python 3",
   "language": "python",
   "name": "python3"
  },
  "language_info": {
   "codemirror_mode": {
    "name": "ipython",
    "version": 3
   },
   "file_extension": ".py",
   "mimetype": "text/x-python",
   "name": "python",
   "nbconvert_exporter": "python",
   "pygments_lexer": "ipython3",
   "version": "3.8.5"
  }
 },
 "nbformat": 4,
 "nbformat_minor": 4
}
