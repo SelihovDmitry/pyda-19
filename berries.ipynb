{
 "cells": [
  {
   "cell_type": "markdown",
   "metadata": {},
   "source": [
    "## Задание\n",
    "\n",
    "#### Провести анализ выгрузки и ответить на вопросы:\n",
    "1\tСколько можно сделать шагов максимально/минимально при утилизации ягод в разрезе разных данных  \n",
    "2\tДайте полный анализ несоответствия данных справочника и выгрузки  \n",
    "3\tСоставьте сводную таблицу с итогами количества ягод по цвету  \n",
    "4\tУкажите сколько ягод имеют разные цвета в пределах первой половины справочника  \n",
    "5\tНайти соотношение количества ягод из выгрузки при котором будет сделано 0 шагов  \n",
    "6\tНайти соотношение количества ягод из выгрузки при котором будет сделано от 50  до 80 шагов  \n",
    "7\tОпределить в какие по счету дни ягоды не обнаруживаются  \n",
    "8\tОпределить в какой день недели обнаружено больше всего ягод белого цвета"
   ]
  },
  {
   "cell_type": "code",
   "execution_count": 148,
   "metadata": {},
   "outputs": [],
   "source": [
    "# импортируем нужные библиотеки\n",
    "import pandas as pd\n",
    "import numpy as np\n",
    "import datetime as dt"
   ]
  },
  {
   "cell_type": "code",
   "execution_count": 149,
   "metadata": {},
   "outputs": [],
   "source": [
    "# загружаем данные в датафреймы\n",
    "df_discharge = pd.read_csv('выгрузка.csv', sep=';', encoding='1251')"
   ]
  },
  {
   "cell_type": "code",
   "execution_count": 150,
   "metadata": {},
   "outputs": [
    {
     "data": {
      "text/html": [
       "<div>\n",
       "<style scoped>\n",
       "    .dataframe tbody tr th:only-of-type {\n",
       "        vertical-align: middle;\n",
       "    }\n",
       "\n",
       "    .dataframe tbody tr th {\n",
       "        vertical-align: top;\n",
       "    }\n",
       "\n",
       "    .dataframe thead th {\n",
       "        text-align: right;\n",
       "    }\n",
       "</style>\n",
       "<table border=\"1\" class=\"dataframe\">\n",
       "  <thead>\n",
       "    <tr style=\"text-align: right;\">\n",
       "      <th></th>\n",
       "      <th>ягода</th>\n",
       "      <th>вес</th>\n",
       "      <th>цвет</th>\n",
       "      <th>дата обнаружения</th>\n",
       "    </tr>\n",
       "  </thead>\n",
       "  <tbody>\n",
       "    <tr>\n",
       "      <th>0</th>\n",
       "      <td>брусника</td>\n",
       "      <td>6</td>\n",
       "      <td>белый</td>\n",
       "      <td>18.02.2014</td>\n",
       "    </tr>\n",
       "    <tr>\n",
       "      <th>1</th>\n",
       "      <td>ежевика</td>\n",
       "      <td>5</td>\n",
       "      <td>красный</td>\n",
       "      <td>01.08.2012</td>\n",
       "    </tr>\n",
       "    <tr>\n",
       "      <th>2</th>\n",
       "      <td>малина</td>\n",
       "      <td>4</td>\n",
       "      <td>красный</td>\n",
       "      <td>07.07.2013</td>\n",
       "    </tr>\n",
       "    <tr>\n",
       "      <th>3</th>\n",
       "      <td>волчья ягода</td>\n",
       "      <td>4</td>\n",
       "      <td>белый</td>\n",
       "      <td>01.03.2002</td>\n",
       "    </tr>\n",
       "    <tr>\n",
       "      <th>4</th>\n",
       "      <td>крыжовник</td>\n",
       "      <td>5</td>\n",
       "      <td>черный</td>\n",
       "      <td>18.02.2017</td>\n",
       "    </tr>\n",
       "  </tbody>\n",
       "</table>\n",
       "</div>"
      ],
      "text/plain": [
       "          ягода  вес     цвет дата обнаружения\n",
       "0      брусника    6    белый       18.02.2014\n",
       "1       ежевика    5  красный       01.08.2012\n",
       "2        малина    4  красный       07.07.2013\n",
       "3  волчья ягода    4    белый       01.03.2002\n",
       "4     крыжовник    5   черный       18.02.2017"
      ]
     },
     "execution_count": 150,
     "metadata": {},
     "output_type": "execute_result"
    }
   ],
   "source": [
    "df_discharge.head()"
   ]
  },
  {
   "cell_type": "code",
   "execution_count": 151,
   "metadata": {},
   "outputs": [
    {
     "name": "stdout",
     "output_type": "stream",
     "text": [
      "<class 'pandas.core.frame.DataFrame'>\n",
      "RangeIndex: 651 entries, 0 to 650\n",
      "Data columns (total 4 columns):\n",
      " #   Column            Non-Null Count  Dtype \n",
      "---  ------            --------------  ----- \n",
      " 0   ягода             651 non-null    object\n",
      " 1   вес               651 non-null    int64 \n",
      " 2   цвет              651 non-null    object\n",
      " 3   дата обнаружения  651 non-null    object\n",
      "dtypes: int64(1), object(3)\n",
      "memory usage: 20.5+ KB\n"
     ]
    }
   ],
   "source": [
    "df_discharge.info()"
   ]
  },
  {
   "cell_type": "code",
   "execution_count": 152,
   "metadata": {},
   "outputs": [
    {
     "data": {
      "text/html": [
       "<div>\n",
       "<style scoped>\n",
       "    .dataframe tbody tr th:only-of-type {\n",
       "        vertical-align: middle;\n",
       "    }\n",
       "\n",
       "    .dataframe tbody tr th {\n",
       "        vertical-align: top;\n",
       "    }\n",
       "\n",
       "    .dataframe thead th {\n",
       "        text-align: right;\n",
       "    }\n",
       "</style>\n",
       "<table border=\"1\" class=\"dataframe\">\n",
       "  <thead>\n",
       "    <tr style=\"text-align: right;\">\n",
       "      <th></th>\n",
       "      <th>вес</th>\n",
       "    </tr>\n",
       "  </thead>\n",
       "  <tbody>\n",
       "    <tr>\n",
       "      <th>count</th>\n",
       "      <td>651.000000</td>\n",
       "    </tr>\n",
       "    <tr>\n",
       "      <th>mean</th>\n",
       "      <td>5.067588</td>\n",
       "    </tr>\n",
       "    <tr>\n",
       "      <th>std</th>\n",
       "      <td>1.008446</td>\n",
       "    </tr>\n",
       "    <tr>\n",
       "      <th>min</th>\n",
       "      <td>4.000000</td>\n",
       "    </tr>\n",
       "    <tr>\n",
       "      <th>25%</th>\n",
       "      <td>4.000000</td>\n",
       "    </tr>\n",
       "    <tr>\n",
       "      <th>50%</th>\n",
       "      <td>5.000000</td>\n",
       "    </tr>\n",
       "    <tr>\n",
       "      <th>75%</th>\n",
       "      <td>6.000000</td>\n",
       "    </tr>\n",
       "    <tr>\n",
       "      <th>max</th>\n",
       "      <td>7.000000</td>\n",
       "    </tr>\n",
       "  </tbody>\n",
       "</table>\n",
       "</div>"
      ],
      "text/plain": [
       "              вес\n",
       "count  651.000000\n",
       "mean     5.067588\n",
       "std      1.008446\n",
       "min      4.000000\n",
       "25%      4.000000\n",
       "50%      5.000000\n",
       "75%      6.000000\n",
       "max      7.000000"
      ]
     },
     "execution_count": 152,
     "metadata": {},
     "output_type": "execute_result"
    }
   ],
   "source": [
    "df_discharge.describe()"
   ]
  },
  {
   "cell_type": "markdown",
   "metadata": {},
   "source": [
    "пропусков нет, очищать данные перед анализом не нужно"
   ]
  },
  {
   "cell_type": "code",
   "execution_count": 153,
   "metadata": {},
   "outputs": [],
   "source": [
    "df_directory = pd.read_csv('справочник.csv', sep=';', encoding='1251')"
   ]
  },
  {
   "cell_type": "code",
   "execution_count": 154,
   "metadata": {},
   "outputs": [
    {
     "data": {
      "text/html": [
       "<div>\n",
       "<style scoped>\n",
       "    .dataframe tbody tr th:only-of-type {\n",
       "        vertical-align: middle;\n",
       "    }\n",
       "\n",
       "    .dataframe tbody tr th {\n",
       "        vertical-align: top;\n",
       "    }\n",
       "\n",
       "    .dataframe thead th {\n",
       "        text-align: right;\n",
       "    }\n",
       "</style>\n",
       "<table border=\"1\" class=\"dataframe\">\n",
       "  <thead>\n",
       "    <tr style=\"text-align: right;\">\n",
       "      <th></th>\n",
       "      <th>ягода</th>\n",
       "      <th>вес</th>\n",
       "      <th>шагов дает</th>\n",
       "      <th>количество в лесу</th>\n",
       "    </tr>\n",
       "  </thead>\n",
       "  <tbody>\n",
       "    <tr>\n",
       "      <th>0</th>\n",
       "      <td>брусника</td>\n",
       "      <td>5</td>\n",
       "      <td>20</td>\n",
       "      <td>50</td>\n",
       "    </tr>\n",
       "    <tr>\n",
       "      <th>1</th>\n",
       "      <td>ежевика</td>\n",
       "      <td>6</td>\n",
       "      <td>15</td>\n",
       "      <td>60</td>\n",
       "    </tr>\n",
       "    <tr>\n",
       "      <th>2</th>\n",
       "      <td>малина</td>\n",
       "      <td>4</td>\n",
       "      <td>13</td>\n",
       "      <td>70</td>\n",
       "    </tr>\n",
       "    <tr>\n",
       "      <th>3</th>\n",
       "      <td>волчья ягода</td>\n",
       "      <td>5</td>\n",
       "      <td>-18</td>\n",
       "      <td>100</td>\n",
       "    </tr>\n",
       "    <tr>\n",
       "      <th>4</th>\n",
       "      <td>крыжовник</td>\n",
       "      <td>6</td>\n",
       "      <td>5</td>\n",
       "      <td>80</td>\n",
       "    </tr>\n",
       "    <tr>\n",
       "      <th>5</th>\n",
       "      <td>брусника</td>\n",
       "      <td>5</td>\n",
       "      <td>8</td>\n",
       "      <td>90</td>\n",
       "    </tr>\n",
       "    <tr>\n",
       "      <th>6</th>\n",
       "      <td>ежевика</td>\n",
       "      <td>4</td>\n",
       "      <td>23</td>\n",
       "      <td>60</td>\n",
       "    </tr>\n",
       "    <tr>\n",
       "      <th>7</th>\n",
       "      <td>малина</td>\n",
       "      <td>4</td>\n",
       "      <td>19</td>\n",
       "      <td>10</td>\n",
       "    </tr>\n",
       "    <tr>\n",
       "      <th>8</th>\n",
       "      <td>арбуз</td>\n",
       "      <td>250</td>\n",
       "      <td>900</td>\n",
       "      <td>1</td>\n",
       "    </tr>\n",
       "    <tr>\n",
       "      <th>9</th>\n",
       "      <td>черника</td>\n",
       "      <td>7</td>\n",
       "      <td>18</td>\n",
       "      <td>20</td>\n",
       "    </tr>\n",
       "  </tbody>\n",
       "</table>\n",
       "</div>"
      ],
      "text/plain": [
       "          ягода  вес  шагов дает  количество в лесу\n",
       "0      брусника    5          20                 50\n",
       "1       ежевика    6          15                 60\n",
       "2        малина    4          13                 70\n",
       "3  волчья ягода    5         -18                100\n",
       "4     крыжовник    6           5                 80\n",
       "5      брусника    5           8                 90\n",
       "6       ежевика    4          23                 60\n",
       "7        малина    4          19                 10\n",
       "8         арбуз  250         900                  1\n",
       "9       черника    7          18                 20"
      ]
     },
     "execution_count": 154,
     "metadata": {},
     "output_type": "execute_result"
    }
   ],
   "source": [
    "df_directory"
   ]
  },
  {
   "cell_type": "markdown",
   "metadata": {},
   "source": [
    "Загрузили данные в датафреймы, теперь можно приступать к заданиям."
   ]
  },
  {
   "cell_type": "markdown",
   "metadata": {},
   "source": [
    "#### 1\tСколько можно сделать шагов максимально/минимально при утилизации ягод в разрезе разных данных  "
   ]
  },
  {
   "cell_type": "markdown",
   "metadata": {},
   "source": [
    "Не очень понимаю задания, как шаги увязать с выгрузкой. Что значит столбец \"шагов дает\". Что значит \"утилизация\" в контексте наших данных, и что значит \"в разрезе РАЗНЫХ данных\"."
   ]
  },
  {
   "cell_type": "markdown",
   "metadata": {},
   "source": [
    "В справочнике у нас есть для одних и тех же ягод разное кол-во шагов, например у брусники может быть 20 и 8 шагов, разделим данные по максимальному и минимальному кол-ву шагов."
   ]
  },
  {
   "cell_type": "code",
   "execution_count": 155,
   "metadata": {},
   "outputs": [
    {
     "data": {
      "text/html": [
       "<div>\n",
       "<style scoped>\n",
       "    .dataframe tbody tr th:only-of-type {\n",
       "        vertical-align: middle;\n",
       "    }\n",
       "\n",
       "    .dataframe tbody tr th {\n",
       "        vertical-align: top;\n",
       "    }\n",
       "\n",
       "    .dataframe thead th {\n",
       "        text-align: right;\n",
       "    }\n",
       "</style>\n",
       "<table border=\"1\" class=\"dataframe\">\n",
       "  <thead>\n",
       "    <tr style=\"text-align: right;\">\n",
       "      <th></th>\n",
       "      <th>ягода</th>\n",
       "      <th>шагов дает</th>\n",
       "    </tr>\n",
       "  </thead>\n",
       "  <tbody>\n",
       "    <tr>\n",
       "      <th>0</th>\n",
       "      <td>арбуз</td>\n",
       "      <td>900</td>\n",
       "    </tr>\n",
       "    <tr>\n",
       "      <th>1</th>\n",
       "      <td>брусника</td>\n",
       "      <td>20</td>\n",
       "    </tr>\n",
       "    <tr>\n",
       "      <th>2</th>\n",
       "      <td>волчья ягода</td>\n",
       "      <td>-18</td>\n",
       "    </tr>\n",
       "    <tr>\n",
       "      <th>3</th>\n",
       "      <td>ежевика</td>\n",
       "      <td>23</td>\n",
       "    </tr>\n",
       "    <tr>\n",
       "      <th>4</th>\n",
       "      <td>крыжовник</td>\n",
       "      <td>5</td>\n",
       "    </tr>\n",
       "    <tr>\n",
       "      <th>5</th>\n",
       "      <td>малина</td>\n",
       "      <td>19</td>\n",
       "    </tr>\n",
       "    <tr>\n",
       "      <th>6</th>\n",
       "      <td>черника</td>\n",
       "      <td>18</td>\n",
       "    </tr>\n",
       "  </tbody>\n",
       "</table>\n",
       "</div>"
      ],
      "text/plain": [
       "          ягода  шагов дает\n",
       "0         арбуз         900\n",
       "1      брусника          20\n",
       "2  волчья ягода         -18\n",
       "3       ежевика          23\n",
       "4     крыжовник           5\n",
       "5        малина          19\n",
       "6       черника          18"
      ]
     },
     "execution_count": 155,
     "metadata": {},
     "output_type": "execute_result"
    }
   ],
   "source": [
    "df_step_max = df_directory.groupby('ягода', as_index=False)['шагов дает'].max()\n",
    "df_step_max"
   ]
  },
  {
   "cell_type": "code",
   "execution_count": 156,
   "metadata": {},
   "outputs": [
    {
     "data": {
      "text/html": [
       "<div>\n",
       "<style scoped>\n",
       "    .dataframe tbody tr th:only-of-type {\n",
       "        vertical-align: middle;\n",
       "    }\n",
       "\n",
       "    .dataframe tbody tr th {\n",
       "        vertical-align: top;\n",
       "    }\n",
       "\n",
       "    .dataframe thead th {\n",
       "        text-align: right;\n",
       "    }\n",
       "</style>\n",
       "<table border=\"1\" class=\"dataframe\">\n",
       "  <thead>\n",
       "    <tr style=\"text-align: right;\">\n",
       "      <th></th>\n",
       "      <th>ягода</th>\n",
       "      <th>шагов дает</th>\n",
       "    </tr>\n",
       "  </thead>\n",
       "  <tbody>\n",
       "    <tr>\n",
       "      <th>0</th>\n",
       "      <td>арбуз</td>\n",
       "      <td>900</td>\n",
       "    </tr>\n",
       "    <tr>\n",
       "      <th>1</th>\n",
       "      <td>брусника</td>\n",
       "      <td>8</td>\n",
       "    </tr>\n",
       "    <tr>\n",
       "      <th>2</th>\n",
       "      <td>волчья ягода</td>\n",
       "      <td>-18</td>\n",
       "    </tr>\n",
       "    <tr>\n",
       "      <th>3</th>\n",
       "      <td>ежевика</td>\n",
       "      <td>15</td>\n",
       "    </tr>\n",
       "    <tr>\n",
       "      <th>4</th>\n",
       "      <td>крыжовник</td>\n",
       "      <td>5</td>\n",
       "    </tr>\n",
       "    <tr>\n",
       "      <th>5</th>\n",
       "      <td>малина</td>\n",
       "      <td>13</td>\n",
       "    </tr>\n",
       "    <tr>\n",
       "      <th>6</th>\n",
       "      <td>черника</td>\n",
       "      <td>18</td>\n",
       "    </tr>\n",
       "  </tbody>\n",
       "</table>\n",
       "</div>"
      ],
      "text/plain": [
       "          ягода  шагов дает\n",
       "0         арбуз         900\n",
       "1      брусника           8\n",
       "2  волчья ягода         -18\n",
       "3       ежевика          15\n",
       "4     крыжовник           5\n",
       "5        малина          13\n",
       "6       черника          18"
      ]
     },
     "execution_count": 156,
     "metadata": {},
     "output_type": "execute_result"
    }
   ],
   "source": [
    "df_step_min = df_directory.groupby('ягода', as_index=False)['шагов дает'].min()\n",
    "df_step_min"
   ]
  },
  {
   "cell_type": "code",
   "execution_count": 157,
   "metadata": {},
   "outputs": [
    {
     "data": {
      "text/html": [
       "<div>\n",
       "<style scoped>\n",
       "    .dataframe tbody tr th:only-of-type {\n",
       "        vertical-align: middle;\n",
       "    }\n",
       "\n",
       "    .dataframe tbody tr th {\n",
       "        vertical-align: top;\n",
       "    }\n",
       "\n",
       "    .dataframe thead th {\n",
       "        text-align: right;\n",
       "    }\n",
       "</style>\n",
       "<table border=\"1\" class=\"dataframe\">\n",
       "  <thead>\n",
       "    <tr style=\"text-align: right;\">\n",
       "      <th></th>\n",
       "      <th>ягода</th>\n",
       "      <th>вес</th>\n",
       "      <th>цвет</th>\n",
       "      <th>дата обнаружения</th>\n",
       "      <th>шагов дает</th>\n",
       "    </tr>\n",
       "  </thead>\n",
       "  <tbody>\n",
       "    <tr>\n",
       "      <th>174</th>\n",
       "      <td>крыжовник</td>\n",
       "      <td>5</td>\n",
       "      <td>белый</td>\n",
       "      <td>01.09.2019</td>\n",
       "      <td>5</td>\n",
       "    </tr>\n",
       "    <tr>\n",
       "      <th>638</th>\n",
       "      <td>ежевика</td>\n",
       "      <td>5</td>\n",
       "      <td>белый</td>\n",
       "      <td>22.03.2018</td>\n",
       "      <td>23</td>\n",
       "    </tr>\n",
       "    <tr>\n",
       "      <th>250</th>\n",
       "      <td>малина</td>\n",
       "      <td>4</td>\n",
       "      <td>белый</td>\n",
       "      <td>06.04.2016</td>\n",
       "      <td>19</td>\n",
       "    </tr>\n",
       "    <tr>\n",
       "      <th>292</th>\n",
       "      <td>малина</td>\n",
       "      <td>4</td>\n",
       "      <td>красный</td>\n",
       "      <td>06.01.2004</td>\n",
       "      <td>19</td>\n",
       "    </tr>\n",
       "    <tr>\n",
       "      <th>584</th>\n",
       "      <td>ежевика</td>\n",
       "      <td>5</td>\n",
       "      <td>белый</td>\n",
       "      <td>17.09.2016</td>\n",
       "      <td>23</td>\n",
       "    </tr>\n",
       "    <tr>\n",
       "      <th>52</th>\n",
       "      <td>ежевика</td>\n",
       "      <td>5</td>\n",
       "      <td>красный</td>\n",
       "      <td>12.08.2015</td>\n",
       "      <td>23</td>\n",
       "    </tr>\n",
       "    <tr>\n",
       "      <th>362</th>\n",
       "      <td>волчья ягода</td>\n",
       "      <td>4</td>\n",
       "      <td>красный</td>\n",
       "      <td>11.11.2021</td>\n",
       "      <td>-18</td>\n",
       "    </tr>\n",
       "    <tr>\n",
       "      <th>1</th>\n",
       "      <td>ежевика</td>\n",
       "      <td>5</td>\n",
       "      <td>красный</td>\n",
       "      <td>01.08.2012</td>\n",
       "      <td>23</td>\n",
       "    </tr>\n",
       "    <tr>\n",
       "      <th>599</th>\n",
       "      <td>крыжовник</td>\n",
       "      <td>6</td>\n",
       "      <td>белый</td>\n",
       "      <td>16.07.2016</td>\n",
       "      <td>5</td>\n",
       "    </tr>\n",
       "    <tr>\n",
       "      <th>311</th>\n",
       "      <td>волчья ягода</td>\n",
       "      <td>5</td>\n",
       "      <td>красный</td>\n",
       "      <td>20.03.2001</td>\n",
       "      <td>-18</td>\n",
       "    </tr>\n",
       "  </tbody>\n",
       "</table>\n",
       "</div>"
      ],
      "text/plain": [
       "            ягода  вес     цвет дата обнаружения  шагов дает\n",
       "174     крыжовник    5    белый       01.09.2019           5\n",
       "638       ежевика    5    белый       22.03.2018          23\n",
       "250        малина    4    белый       06.04.2016          19\n",
       "292        малина    4  красный       06.01.2004          19\n",
       "584       ежевика    5    белый       17.09.2016          23\n",
       "52        ежевика    5  красный       12.08.2015          23\n",
       "362  волчья ягода    4  красный       11.11.2021         -18\n",
       "1         ежевика    5  красный       01.08.2012          23\n",
       "599     крыжовник    6    белый       16.07.2016           5\n",
       "311  волчья ягода    5  красный       20.03.2001         -18"
      ]
     },
     "execution_count": 157,
     "metadata": {},
     "output_type": "execute_result"
    }
   ],
   "source": [
    "# присоединим столбец с шагами к выгрузке (максимальные шаги)\n",
    "df_dis_stepmax = df_discharge.merge(df_step_max, on='ягода', how='left')\n",
    "df_dis_stepmax.sample(10)"
   ]
  },
  {
   "cell_type": "code",
   "execution_count": 158,
   "metadata": {},
   "outputs": [
    {
     "data": {
      "text/html": [
       "<div>\n",
       "<style scoped>\n",
       "    .dataframe tbody tr th:only-of-type {\n",
       "        vertical-align: middle;\n",
       "    }\n",
       "\n",
       "    .dataframe tbody tr th {\n",
       "        vertical-align: top;\n",
       "    }\n",
       "\n",
       "    .dataframe thead th {\n",
       "        text-align: right;\n",
       "    }\n",
       "</style>\n",
       "<table border=\"1\" class=\"dataframe\">\n",
       "  <thead>\n",
       "    <tr style=\"text-align: right;\">\n",
       "      <th></th>\n",
       "      <th>ягода</th>\n",
       "      <th>вес</th>\n",
       "      <th>цвет</th>\n",
       "      <th>дата обнаружения</th>\n",
       "      <th>шагов дает</th>\n",
       "    </tr>\n",
       "  </thead>\n",
       "  <tbody>\n",
       "    <tr>\n",
       "      <th>337</th>\n",
       "      <td>волчья ягода</td>\n",
       "      <td>4</td>\n",
       "      <td>белый</td>\n",
       "      <td>10.03.2005</td>\n",
       "      <td>-18</td>\n",
       "    </tr>\n",
       "    <tr>\n",
       "      <th>82</th>\n",
       "      <td>крыжовник</td>\n",
       "      <td>6</td>\n",
       "      <td>белый</td>\n",
       "      <td>14.10.2010</td>\n",
       "      <td>5</td>\n",
       "    </tr>\n",
       "    <tr>\n",
       "      <th>47</th>\n",
       "      <td>ежевика</td>\n",
       "      <td>5</td>\n",
       "      <td>черный</td>\n",
       "      <td>19.05.2007</td>\n",
       "      <td>15</td>\n",
       "    </tr>\n",
       "    <tr>\n",
       "      <th>634</th>\n",
       "      <td>малина</td>\n",
       "      <td>4</td>\n",
       "      <td>зеленый</td>\n",
       "      <td>01.09.2010</td>\n",
       "      <td>13</td>\n",
       "    </tr>\n",
       "    <tr>\n",
       "      <th>394</th>\n",
       "      <td>брусника</td>\n",
       "      <td>4</td>\n",
       "      <td>красный</td>\n",
       "      <td>15.09.2005</td>\n",
       "      <td>8</td>\n",
       "    </tr>\n",
       "    <tr>\n",
       "      <th>299</th>\n",
       "      <td>брусника</td>\n",
       "      <td>4</td>\n",
       "      <td>белый</td>\n",
       "      <td>10.11.2021</td>\n",
       "      <td>8</td>\n",
       "    </tr>\n",
       "    <tr>\n",
       "      <th>347</th>\n",
       "      <td>крыжовник</td>\n",
       "      <td>7</td>\n",
       "      <td>белый</td>\n",
       "      <td>20.12.2013</td>\n",
       "      <td>5</td>\n",
       "    </tr>\n",
       "    <tr>\n",
       "      <th>41</th>\n",
       "      <td>брусника</td>\n",
       "      <td>4</td>\n",
       "      <td>зеленый</td>\n",
       "      <td>11.04.2021</td>\n",
       "      <td>8</td>\n",
       "    </tr>\n",
       "    <tr>\n",
       "      <th>246</th>\n",
       "      <td>малина</td>\n",
       "      <td>4</td>\n",
       "      <td>белый</td>\n",
       "      <td>21.12.2017</td>\n",
       "      <td>13</td>\n",
       "    </tr>\n",
       "    <tr>\n",
       "      <th>569</th>\n",
       "      <td>волчья ягода</td>\n",
       "      <td>4</td>\n",
       "      <td>черный</td>\n",
       "      <td>23.04.2003</td>\n",
       "      <td>-18</td>\n",
       "    </tr>\n",
       "  </tbody>\n",
       "</table>\n",
       "</div>"
      ],
      "text/plain": [
       "            ягода  вес     цвет дата обнаружения  шагов дает\n",
       "337  волчья ягода    4    белый       10.03.2005         -18\n",
       "82      крыжовник    6    белый       14.10.2010           5\n",
       "47        ежевика    5   черный       19.05.2007          15\n",
       "634        малина    4  зеленый       01.09.2010          13\n",
       "394      брусника    4  красный       15.09.2005           8\n",
       "299      брусника    4    белый       10.11.2021           8\n",
       "347     крыжовник    7    белый       20.12.2013           5\n",
       "41       брусника    4  зеленый       11.04.2021           8\n",
       "246        малина    4    белый       21.12.2017          13\n",
       "569  волчья ягода    4   черный       23.04.2003         -18"
      ]
     },
     "execution_count": 158,
     "metadata": {},
     "output_type": "execute_result"
    }
   ],
   "source": [
    "# присоединим столбец с шагами к выгрузке (минимальные шаги)\n",
    "df_dis_stepmin = df_discharge.merge(df_step_min, on='ягода', how='left')\n",
    "df_dis_stepmin.sample(10)"
   ]
  },
  {
   "cell_type": "code",
   "execution_count": 159,
   "metadata": {},
   "outputs": [
    {
     "name": "stdout",
     "output_type": "stream",
     "text": [
      "Максимальное кол-во шагов для утилизации ягод: 6299\n",
      "Минимальное кол-во шагов для утилизации ягод: 2763\n"
     ]
    }
   ],
   "source": [
    "# выведем результат\n",
    "print(f'Максимальное кол-во шагов для утилизации ягод: {df_dis_stepmax[\"шагов дает\"].sum()}')\n",
    "print(f'Минимальное кол-во шагов для утилизации ягод: {df_dis_stepmin[\"шагов дает\"].sum()}')"
   ]
  },
  {
   "cell_type": "markdown",
   "metadata": {},
   "source": [
    "#### 2\tДайте полный анализ несоответствия данных справочника и выгрузки  "
   ]
  },
  {
   "cell_type": "markdown",
   "metadata": {},
   "source": [
    "Общие столбцы у нас это название ягоды и вес, также из выгрузки можно получить общее кол-во ягод в лесу."
   ]
  },
  {
   "cell_type": "code",
   "execution_count": 160,
   "metadata": {},
   "outputs": [
    {
     "data": {
      "text/plain": [
       "array(['брусника', 'ежевика', 'малина', 'волчья ягода', 'крыжовник',\n",
       "       'арбуз', 'черника'], dtype=object)"
      ]
     },
     "execution_count": 160,
     "metadata": {},
     "output_type": "execute_result"
    }
   ],
   "source": [
    "df_directory['ягода'].unique()"
   ]
  },
  {
   "cell_type": "code",
   "execution_count": 161,
   "metadata": {},
   "outputs": [
    {
     "data": {
      "text/plain": [
       "array(['брусника', 'ежевика', 'малина', 'волчья ягода', 'крыжовник',\n",
       "       'арбуз', 'черника'], dtype=object)"
      ]
     },
     "execution_count": 161,
     "metadata": {},
     "output_type": "execute_result"
    }
   ],
   "source": [
    "# разные ягоды в справочнике\n",
    "diff_berry_dir = df_directory['ягода'].unique()\n",
    "diff_berry_dir"
   ]
  },
  {
   "cell_type": "code",
   "execution_count": 162,
   "metadata": {},
   "outputs": [
    {
     "data": {
      "text/plain": [
       "array(['брусника', 'ежевика', 'малина', 'волчья ягода', 'крыжовник'],\n",
       "      dtype=object)"
      ]
     },
     "execution_count": 162,
     "metadata": {},
     "output_type": "execute_result"
    }
   ],
   "source": [
    "# разные ягоды в выгрузке\n",
    "diff_berry_dis = df_discharge['ягода'].unique()\n",
    "diff_berry_dis"
   ]
  },
  {
   "cell_type": "code",
   "execution_count": 163,
   "metadata": {},
   "outputs": [
    {
     "data": {
      "text/plain": [
       "array(['арбуз', 'черника'], dtype=object)"
      ]
     },
     "execution_count": 163,
     "metadata": {},
     "output_type": "execute_result"
    }
   ],
   "source": [
    "# различия между двумя массивами\n",
    "np.setdiff1d(diff_berry_dir, diff_berry_dis)"
   ]
  },
  {
   "cell_type": "markdown",
   "metadata": {},
   "source": [
    "В справочнике есть ягоды 'арбуз' и 'черника', в выгрузке их нет."
   ]
  },
  {
   "cell_type": "markdown",
   "metadata": {},
   "source": [
    "Посмотрим что с количеством."
   ]
  },
  {
   "cell_type": "code",
   "execution_count": 164,
   "metadata": {},
   "outputs": [
    {
     "data": {
      "text/html": [
       "<div>\n",
       "<style scoped>\n",
       "    .dataframe tbody tr th:only-of-type {\n",
       "        vertical-align: middle;\n",
       "    }\n",
       "\n",
       "    .dataframe tbody tr th {\n",
       "        vertical-align: top;\n",
       "    }\n",
       "\n",
       "    .dataframe thead th {\n",
       "        text-align: right;\n",
       "    }\n",
       "</style>\n",
       "<table border=\"1\" class=\"dataframe\">\n",
       "  <thead>\n",
       "    <tr style=\"text-align: right;\">\n",
       "      <th></th>\n",
       "      <th>ягода</th>\n",
       "      <th>вес</th>\n",
       "      <th>цвет</th>\n",
       "      <th>дата обнаружения</th>\n",
       "    </tr>\n",
       "  </thead>\n",
       "  <tbody>\n",
       "    <tr>\n",
       "      <th>0</th>\n",
       "      <td>брусника</td>\n",
       "      <td>6</td>\n",
       "      <td>белый</td>\n",
       "      <td>18.02.2014</td>\n",
       "    </tr>\n",
       "    <tr>\n",
       "      <th>1</th>\n",
       "      <td>ежевика</td>\n",
       "      <td>5</td>\n",
       "      <td>красный</td>\n",
       "      <td>01.08.2012</td>\n",
       "    </tr>\n",
       "    <tr>\n",
       "      <th>2</th>\n",
       "      <td>малина</td>\n",
       "      <td>4</td>\n",
       "      <td>красный</td>\n",
       "      <td>07.07.2013</td>\n",
       "    </tr>\n",
       "    <tr>\n",
       "      <th>3</th>\n",
       "      <td>волчья ягода</td>\n",
       "      <td>4</td>\n",
       "      <td>белый</td>\n",
       "      <td>01.03.2002</td>\n",
       "    </tr>\n",
       "    <tr>\n",
       "      <th>4</th>\n",
       "      <td>крыжовник</td>\n",
       "      <td>5</td>\n",
       "      <td>черный</td>\n",
       "      <td>18.02.2017</td>\n",
       "    </tr>\n",
       "  </tbody>\n",
       "</table>\n",
       "</div>"
      ],
      "text/plain": [
       "          ягода  вес     цвет дата обнаружения\n",
       "0      брусника    6    белый       18.02.2014\n",
       "1       ежевика    5  красный       01.08.2012\n",
       "2        малина    4  красный       07.07.2013\n",
       "3  волчья ягода    4    белый       01.03.2002\n",
       "4     крыжовник    5   черный       18.02.2017"
      ]
     },
     "execution_count": 164,
     "metadata": {},
     "output_type": "execute_result"
    }
   ],
   "source": [
    "df_discharge.head()"
   ]
  },
  {
   "cell_type": "code",
   "execution_count": 165,
   "metadata": {},
   "outputs": [
    {
     "name": "stdout",
     "output_type": "stream",
     "text": [
      "брусника - 132\n",
      "ежевика - 130\n",
      "малина - 152\n",
      "волчья ягода - 148\n",
      "крыжовник - 89\n"
     ]
    }
   ],
   "source": [
    "# выведем общее количество ягод в выгрузке\n",
    "for berry in df_discharge['ягода'].unique():\n",
    "    print(berry, end=' - ')\n",
    "    print(df_discharge['ягода'][df_discharge['ягода'] == berry].count())"
   ]
  },
  {
   "cell_type": "code",
   "execution_count": 166,
   "metadata": {},
   "outputs": [
    {
     "name": "stdout",
     "output_type": "stream",
     "text": [
      "брусника - 140\n",
      "ежевика - 120\n",
      "малина - 80\n",
      "волчья ягода - 100\n",
      "крыжовник - 80\n",
      "арбуз - 1\n",
      "черника - 20\n"
     ]
    }
   ],
   "source": [
    "# выведем общее количество ягод в справочнике\n",
    "for berry in df_directory['ягода'].unique():\n",
    "    print(berry, end=' - ')\n",
    "    print(df_directory['количество в лесу'][df_directory['ягода'] == berry].sum())"
   ]
  },
  {
   "cell_type": "markdown",
   "metadata": {},
   "source": [
    "Видим, что разное количесво для каждых ягод в выгрузке и в справочнике"
   ]
  },
  {
   "cell_type": "code",
   "execution_count": 167,
   "metadata": {},
   "outputs": [
    {
     "data": {
      "text/html": [
       "<div>\n",
       "<style scoped>\n",
       "    .dataframe tbody tr th:only-of-type {\n",
       "        vertical-align: middle;\n",
       "    }\n",
       "\n",
       "    .dataframe tbody tr th {\n",
       "        vertical-align: top;\n",
       "    }\n",
       "\n",
       "    .dataframe thead th {\n",
       "        text-align: right;\n",
       "    }\n",
       "</style>\n",
       "<table border=\"1\" class=\"dataframe\">\n",
       "  <thead>\n",
       "    <tr style=\"text-align: right;\">\n",
       "      <th></th>\n",
       "      <th>ягода</th>\n",
       "      <th>вес</th>\n",
       "      <th>шагов дает</th>\n",
       "      <th>количество в лесу</th>\n",
       "    </tr>\n",
       "  </thead>\n",
       "  <tbody>\n",
       "    <tr>\n",
       "      <th>0</th>\n",
       "      <td>брусника</td>\n",
       "      <td>5</td>\n",
       "      <td>20</td>\n",
       "      <td>50</td>\n",
       "    </tr>\n",
       "    <tr>\n",
       "      <th>1</th>\n",
       "      <td>ежевика</td>\n",
       "      <td>6</td>\n",
       "      <td>15</td>\n",
       "      <td>60</td>\n",
       "    </tr>\n",
       "    <tr>\n",
       "      <th>2</th>\n",
       "      <td>малина</td>\n",
       "      <td>4</td>\n",
       "      <td>13</td>\n",
       "      <td>70</td>\n",
       "    </tr>\n",
       "    <tr>\n",
       "      <th>3</th>\n",
       "      <td>волчья ягода</td>\n",
       "      <td>5</td>\n",
       "      <td>-18</td>\n",
       "      <td>100</td>\n",
       "    </tr>\n",
       "    <tr>\n",
       "      <th>4</th>\n",
       "      <td>крыжовник</td>\n",
       "      <td>6</td>\n",
       "      <td>5</td>\n",
       "      <td>80</td>\n",
       "    </tr>\n",
       "    <tr>\n",
       "      <th>5</th>\n",
       "      <td>брусника</td>\n",
       "      <td>5</td>\n",
       "      <td>8</td>\n",
       "      <td>90</td>\n",
       "    </tr>\n",
       "    <tr>\n",
       "      <th>6</th>\n",
       "      <td>ежевика</td>\n",
       "      <td>4</td>\n",
       "      <td>23</td>\n",
       "      <td>60</td>\n",
       "    </tr>\n",
       "    <tr>\n",
       "      <th>7</th>\n",
       "      <td>малина</td>\n",
       "      <td>4</td>\n",
       "      <td>19</td>\n",
       "      <td>10</td>\n",
       "    </tr>\n",
       "    <tr>\n",
       "      <th>8</th>\n",
       "      <td>арбуз</td>\n",
       "      <td>250</td>\n",
       "      <td>900</td>\n",
       "      <td>1</td>\n",
       "    </tr>\n",
       "    <tr>\n",
       "      <th>9</th>\n",
       "      <td>черника</td>\n",
       "      <td>7</td>\n",
       "      <td>18</td>\n",
       "      <td>20</td>\n",
       "    </tr>\n",
       "  </tbody>\n",
       "</table>\n",
       "</div>"
      ],
      "text/plain": [
       "          ягода  вес  шагов дает  количество в лесу\n",
       "0      брусника    5          20                 50\n",
       "1       ежевика    6          15                 60\n",
       "2        малина    4          13                 70\n",
       "3  волчья ягода    5         -18                100\n",
       "4     крыжовник    6           5                 80\n",
       "5      брусника    5           8                 90\n",
       "6       ежевика    4          23                 60\n",
       "7        малина    4          19                 10\n",
       "8         арбуз  250         900                  1\n",
       "9       черника    7          18                 20"
      ]
     },
     "execution_count": 167,
     "metadata": {},
     "output_type": "execute_result"
    }
   ],
   "source": [
    "df_directory"
   ]
  },
  {
   "cell_type": "code",
   "execution_count": 168,
   "metadata": {},
   "outputs": [
    {
     "name": "stdout",
     "output_type": "stream",
     "text": [
      "брусника - [5]\n",
      "ежевика - [6 4]\n",
      "малина - [4]\n",
      "волчья ягода - [5]\n",
      "крыжовник - [6]\n",
      "арбуз - [250]\n",
      "черника - [7]\n"
     ]
    }
   ],
   "source": [
    "# в справочнике есть одинаковые ягоды с разным весом, посмотрим что в справочнике и что в выгрузке\n",
    "for berry in df_directory['ягода'].unique():\n",
    "    print(berry, end=' - ')\n",
    "    print(df_directory['вес'][df_directory['ягода'] == berry].unique())"
   ]
  },
  {
   "cell_type": "markdown",
   "metadata": {},
   "source": [
    "т.е. только ежевика имеет разный вес, посмотрим что в выгрузке"
   ]
  },
  {
   "cell_type": "code",
   "execution_count": 169,
   "metadata": {},
   "outputs": [
    {
     "name": "stdout",
     "output_type": "stream",
     "text": [
      "брусника - [6 5 4]\n",
      "ежевика - [5 7 6]\n",
      "малина - [4]\n",
      "волчья ягода - [4 6 5]\n",
      "крыжовник - [5 6 7]\n"
     ]
    }
   ],
   "source": [
    "for berry in df_discharge['ягода'].unique():\n",
    "    print(berry, end=' - ')\n",
    "    print(df_discharge['вес'][df_discharge['ягода'] == berry].unique())"
   ]
  },
  {
   "cell_type": "markdown",
   "metadata": {},
   "source": [
    "в выгрузке все кроме малицы могут быть трех разных весов."
   ]
  },
  {
   "cell_type": "markdown",
   "metadata": {},
   "source": [
    "#### 3 Составьте сводную таблицу с итогами количества ягод по цвету"
   ]
  },
  {
   "cell_type": "code",
   "execution_count": 170,
   "metadata": {},
   "outputs": [
    {
     "data": {
      "text/html": [
       "<div>\n",
       "<style scoped>\n",
       "    .dataframe tbody tr th:only-of-type {\n",
       "        vertical-align: middle;\n",
       "    }\n",
       "\n",
       "    .dataframe tbody tr th {\n",
       "        vertical-align: top;\n",
       "    }\n",
       "\n",
       "    .dataframe thead th {\n",
       "        text-align: right;\n",
       "    }\n",
       "</style>\n",
       "<table border=\"1\" class=\"dataframe\">\n",
       "  <thead>\n",
       "    <tr style=\"text-align: right;\">\n",
       "      <th>цвет</th>\n",
       "      <th>белый</th>\n",
       "      <th>зеленый</th>\n",
       "      <th>красный</th>\n",
       "      <th>черный</th>\n",
       "    </tr>\n",
       "    <tr>\n",
       "      <th>ягода</th>\n",
       "      <th></th>\n",
       "      <th></th>\n",
       "      <th></th>\n",
       "      <th></th>\n",
       "    </tr>\n",
       "  </thead>\n",
       "  <tbody>\n",
       "    <tr>\n",
       "      <th>брусника</th>\n",
       "      <td>58</td>\n",
       "      <td>20</td>\n",
       "      <td>31</td>\n",
       "      <td>23</td>\n",
       "    </tr>\n",
       "    <tr>\n",
       "      <th>волчья ягода</th>\n",
       "      <td>62</td>\n",
       "      <td>16</td>\n",
       "      <td>45</td>\n",
       "      <td>25</td>\n",
       "    </tr>\n",
       "    <tr>\n",
       "      <th>ежевика</th>\n",
       "      <td>58</td>\n",
       "      <td>18</td>\n",
       "      <td>32</td>\n",
       "      <td>22</td>\n",
       "    </tr>\n",
       "    <tr>\n",
       "      <th>крыжовник</th>\n",
       "      <td>38</td>\n",
       "      <td>13</td>\n",
       "      <td>26</td>\n",
       "      <td>12</td>\n",
       "    </tr>\n",
       "    <tr>\n",
       "      <th>малина</th>\n",
       "      <td>70</td>\n",
       "      <td>23</td>\n",
       "      <td>41</td>\n",
       "      <td>18</td>\n",
       "    </tr>\n",
       "  </tbody>\n",
       "</table>\n",
       "</div>"
      ],
      "text/plain": [
       "цвет          белый  зеленый  красный  черный\n",
       "ягода                                        \n",
       "брусника         58       20       31      23\n",
       "волчья ягода     62       16       45      25\n",
       "ежевика          58       18       32      22\n",
       "крыжовник        38       13       26      12\n",
       "малина           70       23       41      18"
      ]
     },
     "execution_count": 170,
     "metadata": {},
     "output_type": "execute_result"
    }
   ],
   "source": [
    "# по цверу в разрезе ягод\n",
    "pivot_color_berry = df_discharge.pivot_table(\n",
    "                        index='ягода', \n",
    "                        columns='цвет', \n",
    "                        values='вес', \n",
    "                        aggfunc='count')\n",
    "pivot_color_berry"
   ]
  },
  {
   "cell_type": "code",
   "execution_count": 171,
   "metadata": {},
   "outputs": [
    {
     "data": {
      "text/html": [
       "<div>\n",
       "<style scoped>\n",
       "    .dataframe tbody tr th:only-of-type {\n",
       "        vertical-align: middle;\n",
       "    }\n",
       "\n",
       "    .dataframe tbody tr th {\n",
       "        vertical-align: top;\n",
       "    }\n",
       "\n",
       "    .dataframe thead th {\n",
       "        text-align: right;\n",
       "    }\n",
       "</style>\n",
       "<table border=\"1\" class=\"dataframe\">\n",
       "  <thead>\n",
       "    <tr style=\"text-align: right;\">\n",
       "      <th></th>\n",
       "      <th>вес</th>\n",
       "    </tr>\n",
       "    <tr>\n",
       "      <th>цвет</th>\n",
       "      <th></th>\n",
       "    </tr>\n",
       "  </thead>\n",
       "  <tbody>\n",
       "    <tr>\n",
       "      <th>белый</th>\n",
       "      <td>286</td>\n",
       "    </tr>\n",
       "    <tr>\n",
       "      <th>зеленый</th>\n",
       "      <td>90</td>\n",
       "    </tr>\n",
       "    <tr>\n",
       "      <th>красный</th>\n",
       "      <td>175</td>\n",
       "    </tr>\n",
       "    <tr>\n",
       "      <th>черный</th>\n",
       "      <td>100</td>\n",
       "    </tr>\n",
       "  </tbody>\n",
       "</table>\n",
       "</div>"
      ],
      "text/plain": [
       "         вес\n",
       "цвет        \n",
       "белый    286\n",
       "зеленый   90\n",
       "красный  175\n",
       "черный   100"
      ]
     },
     "execution_count": 171,
     "metadata": {},
     "output_type": "execute_result"
    }
   ],
   "source": [
    "# общее количество по цвету, независимо от вида ягоды\n",
    "pivot_color = df_discharge.pivot_table(\n",
    "                        index='цвет', \n",
    "#                        columns='цвет', \n",
    "                        values='вес', \n",
    "                        aggfunc='count')\n",
    "pivot_color"
   ]
  },
  {
   "cell_type": "markdown",
   "metadata": {},
   "source": [
    "#### 4 Укажите сколько ягод имеют разные цвета в пределах первой половины справочника"
   ]
  },
  {
   "cell_type": "code",
   "execution_count": 172,
   "metadata": {},
   "outputs": [
    {
     "data": {
      "text/html": [
       "<div>\n",
       "<style scoped>\n",
       "    .dataframe tbody tr th:only-of-type {\n",
       "        vertical-align: middle;\n",
       "    }\n",
       "\n",
       "    .dataframe tbody tr th {\n",
       "        vertical-align: top;\n",
       "    }\n",
       "\n",
       "    .dataframe thead th {\n",
       "        text-align: right;\n",
       "    }\n",
       "</style>\n",
       "<table border=\"1\" class=\"dataframe\">\n",
       "  <thead>\n",
       "    <tr style=\"text-align: right;\">\n",
       "      <th></th>\n",
       "      <th>ягода</th>\n",
       "      <th>вес</th>\n",
       "      <th>шагов дает</th>\n",
       "      <th>количество в лесу</th>\n",
       "    </tr>\n",
       "  </thead>\n",
       "  <tbody>\n",
       "    <tr>\n",
       "      <th>0</th>\n",
       "      <td>брусника</td>\n",
       "      <td>5</td>\n",
       "      <td>20</td>\n",
       "      <td>50</td>\n",
       "    </tr>\n",
       "    <tr>\n",
       "      <th>1</th>\n",
       "      <td>ежевика</td>\n",
       "      <td>6</td>\n",
       "      <td>15</td>\n",
       "      <td>60</td>\n",
       "    </tr>\n",
       "    <tr>\n",
       "      <th>2</th>\n",
       "      <td>малина</td>\n",
       "      <td>4</td>\n",
       "      <td>13</td>\n",
       "      <td>70</td>\n",
       "    </tr>\n",
       "    <tr>\n",
       "      <th>3</th>\n",
       "      <td>волчья ягода</td>\n",
       "      <td>5</td>\n",
       "      <td>-18</td>\n",
       "      <td>100</td>\n",
       "    </tr>\n",
       "    <tr>\n",
       "      <th>4</th>\n",
       "      <td>крыжовник</td>\n",
       "      <td>6</td>\n",
       "      <td>5</td>\n",
       "      <td>80</td>\n",
       "    </tr>\n",
       "    <tr>\n",
       "      <th>5</th>\n",
       "      <td>брусника</td>\n",
       "      <td>5</td>\n",
       "      <td>8</td>\n",
       "      <td>90</td>\n",
       "    </tr>\n",
       "    <tr>\n",
       "      <th>6</th>\n",
       "      <td>ежевика</td>\n",
       "      <td>4</td>\n",
       "      <td>23</td>\n",
       "      <td>60</td>\n",
       "    </tr>\n",
       "    <tr>\n",
       "      <th>7</th>\n",
       "      <td>малина</td>\n",
       "      <td>4</td>\n",
       "      <td>19</td>\n",
       "      <td>10</td>\n",
       "    </tr>\n",
       "    <tr>\n",
       "      <th>8</th>\n",
       "      <td>арбуз</td>\n",
       "      <td>250</td>\n",
       "      <td>900</td>\n",
       "      <td>1</td>\n",
       "    </tr>\n",
       "    <tr>\n",
       "      <th>9</th>\n",
       "      <td>черника</td>\n",
       "      <td>7</td>\n",
       "      <td>18</td>\n",
       "      <td>20</td>\n",
       "    </tr>\n",
       "  </tbody>\n",
       "</table>\n",
       "</div>"
      ],
      "text/plain": [
       "          ягода  вес  шагов дает  количество в лесу\n",
       "0      брусника    5          20                 50\n",
       "1       ежевика    6          15                 60\n",
       "2        малина    4          13                 70\n",
       "3  волчья ягода    5         -18                100\n",
       "4     крыжовник    6           5                 80\n",
       "5      брусника    5           8                 90\n",
       "6       ежевика    4          23                 60\n",
       "7        малина    4          19                 10\n",
       "8         арбуз  250         900                  1\n",
       "9       черника    7          18                 20"
      ]
     },
     "execution_count": 172,
     "metadata": {},
     "output_type": "execute_result"
    }
   ],
   "source": [
    "df_directory"
   ]
  },
  {
   "cell_type": "code",
   "execution_count": 173,
   "metadata": {},
   "outputs": [
    {
     "data": {
      "text/plain": [
       "4"
      ]
     },
     "execution_count": 173,
     "metadata": {},
     "output_type": "execute_result"
    }
   ],
   "source": [
    "# Найдем индекс последнего элемента первой половины справочника\n",
    "half_dir_ind = len(df_directory) // 2 - 1 # -1 т.к. индексация начинается с 0.\n",
    "half_dir_ind"
   ]
  },
  {
   "cell_type": "code",
   "execution_count": 174,
   "metadata": {},
   "outputs": [
    {
     "data": {
      "text/html": [
       "<div>\n",
       "<style scoped>\n",
       "    .dataframe tbody tr th:only-of-type {\n",
       "        vertical-align: middle;\n",
       "    }\n",
       "\n",
       "    .dataframe tbody tr th {\n",
       "        vertical-align: top;\n",
       "    }\n",
       "\n",
       "    .dataframe thead th {\n",
       "        text-align: right;\n",
       "    }\n",
       "</style>\n",
       "<table border=\"1\" class=\"dataframe\">\n",
       "  <thead>\n",
       "    <tr style=\"text-align: right;\">\n",
       "      <th></th>\n",
       "      <th>ягода</th>\n",
       "      <th>вес</th>\n",
       "      <th>шагов дает</th>\n",
       "      <th>количество в лесу</th>\n",
       "    </tr>\n",
       "  </thead>\n",
       "  <tbody>\n",
       "    <tr>\n",
       "      <th>0</th>\n",
       "      <td>брусника</td>\n",
       "      <td>5</td>\n",
       "      <td>20</td>\n",
       "      <td>50</td>\n",
       "    </tr>\n",
       "    <tr>\n",
       "      <th>1</th>\n",
       "      <td>ежевика</td>\n",
       "      <td>6</td>\n",
       "      <td>15</td>\n",
       "      <td>60</td>\n",
       "    </tr>\n",
       "    <tr>\n",
       "      <th>2</th>\n",
       "      <td>малина</td>\n",
       "      <td>4</td>\n",
       "      <td>13</td>\n",
       "      <td>70</td>\n",
       "    </tr>\n",
       "    <tr>\n",
       "      <th>3</th>\n",
       "      <td>волчья ягода</td>\n",
       "      <td>5</td>\n",
       "      <td>-18</td>\n",
       "      <td>100</td>\n",
       "    </tr>\n",
       "    <tr>\n",
       "      <th>4</th>\n",
       "      <td>крыжовник</td>\n",
       "      <td>6</td>\n",
       "      <td>5</td>\n",
       "      <td>80</td>\n",
       "    </tr>\n",
       "  </tbody>\n",
       "</table>\n",
       "</div>"
      ],
      "text/plain": [
       "          ягода  вес  шагов дает  количество в лесу\n",
       "0      брусника    5          20                 50\n",
       "1       ежевика    6          15                 60\n",
       "2        малина    4          13                 70\n",
       "3  волчья ягода    5         -18                100\n",
       "4     крыжовник    6           5                 80"
      ]
     },
     "execution_count": 174,
     "metadata": {},
     "output_type": "execute_result"
    }
   ],
   "source": [
    "df_half_dir = df_directory.loc[:half_dir_ind]\n",
    "df_half_dir"
   ]
  },
  {
   "cell_type": "code",
   "execution_count": 175,
   "metadata": {},
   "outputs": [
    {
     "name": "stdout",
     "output_type": "stream",
     "text": [
      "5 ягод имеют разные цвета в пределах первой половины справочника\n"
     ]
    }
   ],
   "source": [
    "x = 0 # кол-во ягод где больше 1 разных цветов\n",
    "for berry in df_half_dir['ягода'].unique():\n",
    "    diff_colors = len(df_discharge['цвет'][df_discharge['ягода'] == berry].unique())\n",
    "    if diff_colors > 1:\n",
    "        x += 1\n",
    "print(f'{x} ягод имеют разные цвета в пределах первой половины справочника')"
   ]
  },
  {
   "cell_type": "code",
   "execution_count": 176,
   "metadata": {},
   "outputs": [
    {
     "name": "stdout",
     "output_type": "stream",
     "text": [
      "брусника:\n",
      "цвета: ['белый' 'зеленый' 'красный' 'черный']\n",
      "ежевика:\n",
      "цвета: ['красный' 'белый' 'черный' 'зеленый']\n",
      "малина:\n",
      "цвета: ['красный' 'белый' 'черный' 'зеленый']\n",
      "волчья ягода:\n",
      "цвета: ['белый' 'красный' 'зеленый' 'черный']\n",
      "крыжовник:\n",
      "цвета: ['черный' 'белый' 'красный' 'зеленый']\n"
     ]
    }
   ],
   "source": [
    "# Ну и можем в этом убедиться распечатав встречающиеся цвета ягод\n",
    "for berry in df_half_dir['ягода'].unique():\n",
    "    print(berry, end=':\\nцвета: ')\n",
    "    print(df_discharge['цвет'][df_discharge['ягода'] == berry].unique())"
   ]
  },
  {
   "cell_type": "markdown",
   "metadata": {},
   "source": [
    "#### 5 Найти соотношение количества ягод из выгрузки при котором будет сделано 0 шагов"
   ]
  },
  {
   "cell_type": "code",
   "execution_count": 177,
   "metadata": {},
   "outputs": [
    {
     "data": {
      "text/html": [
       "<div>\n",
       "<style scoped>\n",
       "    .dataframe tbody tr th:only-of-type {\n",
       "        vertical-align: middle;\n",
       "    }\n",
       "\n",
       "    .dataframe tbody tr th {\n",
       "        vertical-align: top;\n",
       "    }\n",
       "\n",
       "    .dataframe thead th {\n",
       "        text-align: right;\n",
       "    }\n",
       "</style>\n",
       "<table border=\"1\" class=\"dataframe\">\n",
       "  <thead>\n",
       "    <tr style=\"text-align: right;\">\n",
       "      <th></th>\n",
       "      <th>ягода</th>\n",
       "      <th>шагов дает</th>\n",
       "    </tr>\n",
       "  </thead>\n",
       "  <tbody>\n",
       "    <tr>\n",
       "      <th>0</th>\n",
       "      <td>брусника</td>\n",
       "      <td>8</td>\n",
       "    </tr>\n",
       "    <tr>\n",
       "      <th>1</th>\n",
       "      <td>волчья ягода</td>\n",
       "      <td>-18</td>\n",
       "    </tr>\n",
       "    <tr>\n",
       "      <th>2</th>\n",
       "      <td>ежевика</td>\n",
       "      <td>15</td>\n",
       "    </tr>\n",
       "    <tr>\n",
       "      <th>3</th>\n",
       "      <td>крыжовник</td>\n",
       "      <td>5</td>\n",
       "    </tr>\n",
       "    <tr>\n",
       "      <th>4</th>\n",
       "      <td>малина</td>\n",
       "      <td>13</td>\n",
       "    </tr>\n",
       "  </tbody>\n",
       "</table>\n",
       "</div>"
      ],
      "text/plain": [
       "          ягода  шагов дает\n",
       "0      брусника           8\n",
       "1  волчья ягода         -18\n",
       "2       ежевика          15\n",
       "3     крыжовник           5\n",
       "4        малина          13"
      ]
     },
     "execution_count": 177,
     "metadata": {},
     "output_type": "execute_result"
    }
   ],
   "source": [
    "# кол-во шагов в справочнике может быть разным для одних и тех же ягод, возьмем из минимальных.\n",
    "# какую агрегатную функцию применять после группировки разницы нет, т.к. данные (шаги) одинаковые\n",
    "df_dis_stepmin[['ягода', 'шагов дает']].groupby('ягода', as_index=False).min()"
   ]
  },
  {
   "cell_type": "markdown",
   "metadata": {},
   "source": [
    "в минус у нас дает только 'волчья ягода', и видно, например, что 1 крыжовник + 1 малина + 1 волчья ягода даст в сумме 0 шагов.\n",
    "таких сочетаний будет много, но конечное количество, как написать запрос что он выдал все возможные варианты, либо выбирал рандомный, пока не знаю"
   ]
  },
  {
   "cell_type": "markdown",
   "metadata": {},
   "source": [
    "#### 6 Найти соотношение количества ягод из выгрузки при котором будет сделано от 50 до 80 шагов"
   ]
  },
  {
   "cell_type": "code",
   "execution_count": 178,
   "metadata": {},
   "outputs": [
    {
     "data": {
      "text/html": [
       "<div>\n",
       "<style scoped>\n",
       "    .dataframe tbody tr th:only-of-type {\n",
       "        vertical-align: middle;\n",
       "    }\n",
       "\n",
       "    .dataframe tbody tr th {\n",
       "        vertical-align: top;\n",
       "    }\n",
       "\n",
       "    .dataframe thead th {\n",
       "        text-align: right;\n",
       "    }\n",
       "</style>\n",
       "<table border=\"1\" class=\"dataframe\">\n",
       "  <thead>\n",
       "    <tr style=\"text-align: right;\">\n",
       "      <th></th>\n",
       "      <th>ягода</th>\n",
       "      <th>шагов дает</th>\n",
       "    </tr>\n",
       "  </thead>\n",
       "  <tbody>\n",
       "    <tr>\n",
       "      <th>0</th>\n",
       "      <td>брусника</td>\n",
       "      <td>20</td>\n",
       "    </tr>\n",
       "    <tr>\n",
       "      <th>1</th>\n",
       "      <td>волчья ягода</td>\n",
       "      <td>-18</td>\n",
       "    </tr>\n",
       "    <tr>\n",
       "      <th>2</th>\n",
       "      <td>ежевика</td>\n",
       "      <td>23</td>\n",
       "    </tr>\n",
       "    <tr>\n",
       "      <th>3</th>\n",
       "      <td>крыжовник</td>\n",
       "      <td>5</td>\n",
       "    </tr>\n",
       "    <tr>\n",
       "      <th>4</th>\n",
       "      <td>малина</td>\n",
       "      <td>19</td>\n",
       "    </tr>\n",
       "  </tbody>\n",
       "</table>\n",
       "</div>"
      ],
      "text/plain": [
       "          ягода  шагов дает\n",
       "0      брусника          20\n",
       "1  волчья ягода         -18\n",
       "2       ежевика          23\n",
       "3     крыжовник           5\n",
       "4        малина          19"
      ]
     },
     "execution_count": 178,
     "metadata": {},
     "output_type": "execute_result"
    }
   ],
   "source": [
    "#Ну тоже самое, в минус только волчья ягода, возьмем теперь для примера из максимальных шагов\n",
    "df_dis_stepmax[['ягода', 'шагов дает']].groupby('ягода', as_index=False).min()"
   ]
  },
  {
   "cell_type": "markdown",
   "metadata": {},
   "source": [
    "можно просто собрать ягоды до диапазона 50-80 шагов, например 2 брусники + ежевика, либо 2 малины + брусника, либо набрать почти любой кол-во ягод и потом \"минусовать\" шаги волчьей ягодой."
   ]
  },
  {
   "cell_type": "markdown",
   "metadata": {},
   "source": [
    "#### 7 Определить в какие по счету дни ягоды не обнаруживаются"
   ]
  },
  {
   "cell_type": "markdown",
   "metadata": {},
   "source": [
    "Даты обнаружения идут от 2001 по 2021 год, по 3-4 обнаружения в месяц, в остальные дни ягоды не обнаруживаются."
   ]
  },
  {
   "cell_type": "markdown",
   "metadata": {},
   "source": [
    "#### 8 Определить в какой день недели обнаружено больше всего ягод белого цвета"
   ]
  },
  {
   "cell_type": "code",
   "execution_count": 179,
   "metadata": {},
   "outputs": [
    {
     "data": {
      "text/html": [
       "<div>\n",
       "<style scoped>\n",
       "    .dataframe tbody tr th:only-of-type {\n",
       "        vertical-align: middle;\n",
       "    }\n",
       "\n",
       "    .dataframe tbody tr th {\n",
       "        vertical-align: top;\n",
       "    }\n",
       "\n",
       "    .dataframe thead th {\n",
       "        text-align: right;\n",
       "    }\n",
       "</style>\n",
       "<table border=\"1\" class=\"dataframe\">\n",
       "  <thead>\n",
       "    <tr style=\"text-align: right;\">\n",
       "      <th></th>\n",
       "      <th>ягода</th>\n",
       "      <th>вес</th>\n",
       "      <th>цвет</th>\n",
       "      <th>дата обнаружения</th>\n",
       "    </tr>\n",
       "  </thead>\n",
       "  <tbody>\n",
       "    <tr>\n",
       "      <th>0</th>\n",
       "      <td>брусника</td>\n",
       "      <td>6</td>\n",
       "      <td>белый</td>\n",
       "      <td>18.02.2014</td>\n",
       "    </tr>\n",
       "    <tr>\n",
       "      <th>1</th>\n",
       "      <td>ежевика</td>\n",
       "      <td>5</td>\n",
       "      <td>красный</td>\n",
       "      <td>01.08.2012</td>\n",
       "    </tr>\n",
       "    <tr>\n",
       "      <th>2</th>\n",
       "      <td>малина</td>\n",
       "      <td>4</td>\n",
       "      <td>красный</td>\n",
       "      <td>07.07.2013</td>\n",
       "    </tr>\n",
       "    <tr>\n",
       "      <th>3</th>\n",
       "      <td>волчья ягода</td>\n",
       "      <td>4</td>\n",
       "      <td>белый</td>\n",
       "      <td>01.03.2002</td>\n",
       "    </tr>\n",
       "    <tr>\n",
       "      <th>4</th>\n",
       "      <td>крыжовник</td>\n",
       "      <td>5</td>\n",
       "      <td>черный</td>\n",
       "      <td>18.02.2017</td>\n",
       "    </tr>\n",
       "  </tbody>\n",
       "</table>\n",
       "</div>"
      ],
      "text/plain": [
       "          ягода  вес     цвет дата обнаружения\n",
       "0      брусника    6    белый       18.02.2014\n",
       "1       ежевика    5  красный       01.08.2012\n",
       "2        малина    4  красный       07.07.2013\n",
       "3  волчья ягода    4    белый       01.03.2002\n",
       "4     крыжовник    5   черный       18.02.2017"
      ]
     },
     "execution_count": 179,
     "metadata": {},
     "output_type": "execute_result"
    }
   ],
   "source": [
    "df_discharge.head()"
   ]
  },
  {
   "cell_type": "code",
   "execution_count": 180,
   "metadata": {},
   "outputs": [
    {
     "name": "stdout",
     "output_type": "stream",
     "text": [
      "<class 'pandas.core.frame.DataFrame'>\n",
      "RangeIndex: 651 entries, 0 to 650\n",
      "Data columns (total 4 columns):\n",
      " #   Column            Non-Null Count  Dtype \n",
      "---  ------            --------------  ----- \n",
      " 0   ягода             651 non-null    object\n",
      " 1   вес               651 non-null    int64 \n",
      " 2   цвет              651 non-null    object\n",
      " 3   дата обнаружения  651 non-null    object\n",
      "dtypes: int64(1), object(3)\n",
      "memory usage: 20.5+ KB\n"
     ]
    }
   ],
   "source": [
    "df_discharge.info()"
   ]
  },
  {
   "cell_type": "code",
   "execution_count": 181,
   "metadata": {},
   "outputs": [],
   "source": [
    "# добавим столбец (чтобы не изменять исходные данные) с датой в формате datetime\n",
    "df_discharge['date'] = pd.to_datetime(df_discharge['дата обнаружения'])"
   ]
  },
  {
   "cell_type": "code",
   "execution_count": 182,
   "metadata": {},
   "outputs": [
    {
     "name": "stdout",
     "output_type": "stream",
     "text": [
      "<class 'pandas.core.frame.DataFrame'>\n",
      "RangeIndex: 651 entries, 0 to 650\n",
      "Data columns (total 5 columns):\n",
      " #   Column            Non-Null Count  Dtype         \n",
      "---  ------            --------------  -----         \n",
      " 0   ягода             651 non-null    object        \n",
      " 1   вес               651 non-null    int64         \n",
      " 2   цвет              651 non-null    object        \n",
      " 3   дата обнаружения  651 non-null    object        \n",
      " 4   date              651 non-null    datetime64[ns]\n",
      "dtypes: datetime64[ns](1), int64(1), object(3)\n",
      "memory usage: 25.6+ KB\n"
     ]
    }
   ],
   "source": [
    "df_discharge.info()"
   ]
  },
  {
   "cell_type": "code",
   "execution_count": 183,
   "metadata": {},
   "outputs": [],
   "source": [
    "# добавим столбец с номером дня недели\n",
    "df_discharge['weekday'] = df_discharge['date'].dt.dayofweek"
   ]
  },
  {
   "cell_type": "code",
   "execution_count": 184,
   "metadata": {},
   "outputs": [
    {
     "data": {
      "text/html": [
       "<div>\n",
       "<style scoped>\n",
       "    .dataframe tbody tr th:only-of-type {\n",
       "        vertical-align: middle;\n",
       "    }\n",
       "\n",
       "    .dataframe tbody tr th {\n",
       "        vertical-align: top;\n",
       "    }\n",
       "\n",
       "    .dataframe thead th {\n",
       "        text-align: right;\n",
       "    }\n",
       "</style>\n",
       "<table border=\"1\" class=\"dataframe\">\n",
       "  <thead>\n",
       "    <tr style=\"text-align: right;\">\n",
       "      <th></th>\n",
       "      <th>ягода</th>\n",
       "      <th>вес</th>\n",
       "      <th>цвет</th>\n",
       "      <th>дата обнаружения</th>\n",
       "      <th>date</th>\n",
       "      <th>weekday</th>\n",
       "    </tr>\n",
       "  </thead>\n",
       "  <tbody>\n",
       "    <tr>\n",
       "      <th>0</th>\n",
       "      <td>брусника</td>\n",
       "      <td>6</td>\n",
       "      <td>белый</td>\n",
       "      <td>18.02.2014</td>\n",
       "      <td>2014-02-18</td>\n",
       "      <td>1</td>\n",
       "    </tr>\n",
       "    <tr>\n",
       "      <th>1</th>\n",
       "      <td>ежевика</td>\n",
       "      <td>5</td>\n",
       "      <td>красный</td>\n",
       "      <td>01.08.2012</td>\n",
       "      <td>2012-01-08</td>\n",
       "      <td>6</td>\n",
       "    </tr>\n",
       "    <tr>\n",
       "      <th>2</th>\n",
       "      <td>малина</td>\n",
       "      <td>4</td>\n",
       "      <td>красный</td>\n",
       "      <td>07.07.2013</td>\n",
       "      <td>2013-07-07</td>\n",
       "      <td>6</td>\n",
       "    </tr>\n",
       "    <tr>\n",
       "      <th>3</th>\n",
       "      <td>волчья ягода</td>\n",
       "      <td>4</td>\n",
       "      <td>белый</td>\n",
       "      <td>01.03.2002</td>\n",
       "      <td>2002-01-03</td>\n",
       "      <td>3</td>\n",
       "    </tr>\n",
       "    <tr>\n",
       "      <th>4</th>\n",
       "      <td>крыжовник</td>\n",
       "      <td>5</td>\n",
       "      <td>черный</td>\n",
       "      <td>18.02.2017</td>\n",
       "      <td>2017-02-18</td>\n",
       "      <td>5</td>\n",
       "    </tr>\n",
       "  </tbody>\n",
       "</table>\n",
       "</div>"
      ],
      "text/plain": [
       "          ягода  вес     цвет дата обнаружения       date  weekday\n",
       "0      брусника    6    белый       18.02.2014 2014-02-18        1\n",
       "1       ежевика    5  красный       01.08.2012 2012-01-08        6\n",
       "2        малина    4  красный       07.07.2013 2013-07-07        6\n",
       "3  волчья ягода    4    белый       01.03.2002 2002-01-03        3\n",
       "4     крыжовник    5   черный       18.02.2017 2017-02-18        5"
      ]
     },
     "execution_count": 184,
     "metadata": {},
     "output_type": "execute_result"
    }
   ],
   "source": [
    "df_discharge.head()"
   ]
  },
  {
   "cell_type": "code",
   "execution_count": 185,
   "metadata": {},
   "outputs": [
    {
     "data": {
      "text/plain": [
       "{1: 40, 6: 34, 3: 49, 5: 44, 0: 39, 4: 42, 2: 38}"
      ]
     },
     "execution_count": 185,
     "metadata": {},
     "output_type": "execute_result"
    }
   ],
   "source": [
    "# собственно найдем день недели в который было обнаружено больше всего ягод белого цвета\n",
    "weekday_white_berry = {} # создадим словарь, куда будем записывать день недели и кол-во белых ягод\n",
    "for day in df_discharge.weekday.unique():\n",
    "    day_count = df_discharge.loc[ (df_discharge['цвет'] == 'белый') &\n",
    "                    (df_discharge['weekday'] == day) ]['ягода'].count()\n",
    "    weekday_white_berry[day] = day_count\n",
    "weekday_white_berry"
   ]
  },
  {
   "cell_type": "code",
   "execution_count": 186,
   "metadata": {},
   "outputs": [
    {
     "data": {
      "text/plain": [
       "3"
      ]
     },
     "execution_count": 186,
     "metadata": {},
     "output_type": "execute_result"
    }
   ],
   "source": [
    "best_week_day = max(weekday_white_berry, key=weekday_white_berry.get)\n",
    "best_week_day"
   ]
  },
  {
   "cell_type": "code",
   "execution_count": 187,
   "metadata": {},
   "outputs": [
    {
     "data": {
      "text/plain": [
       "{0: 'Понедельник',\n",
       " 1: 'Вторник',\n",
       " 2: 'Среда',\n",
       " 3: 'Четверг',\n",
       " 4: 'Пятница',\n",
       " 5: 'Суббота',\n",
       " 6: 'Воскресенье'}"
      ]
     },
     "execution_count": 187,
     "metadata": {},
     "output_type": "execute_result"
    }
   ],
   "source": [
    "# создадим словарь с днями недели\n",
    "days = {0: \"Понедельник\", 1: \"Вторник\", 2: \"Среда\", 3: \"Четверг\", 4: \"Пятница\", 5: \"Суббота\", 6: \"Воскресенье\"}\n",
    "days"
   ]
  },
  {
   "cell_type": "code",
   "execution_count": 188,
   "metadata": {},
   "outputs": [
    {
     "name": "stdout",
     "output_type": "stream",
     "text": [
      "Больше всего ягод белого цвета обнаружено в день недели: Четверг\n"
     ]
    }
   ],
   "source": [
    "print(f'Больше всего ягод белого цвета обнаружено в день недели: {days[best_week_day]}')"
   ]
  }
 ],
 "metadata": {
  "kernelspec": {
   "display_name": "Python 3",
   "language": "python",
   "name": "python3"
  },
  "language_info": {
   "codemirror_mode": {
    "name": "ipython",
    "version": 3
   },
   "file_extension": ".py",
   "mimetype": "text/x-python",
   "name": "python",
   "nbconvert_exporter": "python",
   "pygments_lexer": "ipython3",
   "version": "3.8.5"
  }
 },
 "nbformat": 4,
 "nbformat_minor": 4
}
