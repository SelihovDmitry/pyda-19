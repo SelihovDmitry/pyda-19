{
 "cells": [
  {
   "cell_type": "markdown",
   "metadata": {},
   "source": [
    "## Домашнее задание к лекции \"Функции\"\n",
    "Вам нужно помочь секретарю автоматизировать работу. Для этого нужно написать программу, которая будет на основе хранимых данных исполнять пользовательские команды.\n",
    "\n",
    "Исходные данные имеют следующую структуру:\n",
    "\n",
    "1. перечень всех документов\n",
    "\n",
    "2. перечень полок, на которых хранятся документы (если документ есть в documents, то он обязательно должен быть и в directories)\n",
    "\n",
    "Общие требования к программе:\n",
    "\n",
    "- код должен быть грамотно декомпозирован (каждая функция отвечает за свою конкретную задачу, дублирующийся функционал переиспользуется, а его код не повторяется);\n",
    "- в коде отсутствуют глобальные переменные (за исключением documents и directories);\n",
    "- пользовательский ввод обрабатывается в цикле while до тех пор, пока пользователь явно не завершит программу (вводом команды \"q\")."
   ]
  },
  {
   "cell_type": "code",
   "execution_count": 70,
   "metadata": {},
   "outputs": [],
   "source": [
    "documents = [\n",
    " {'type': 'passport', 'number': '2207 876234', 'name': 'Василий Гупкин'},\n",
    " {'type': 'invoice', 'number': '11-2', 'name': 'Геннадий Покемонов'},\n",
    " {'type': 'insurance', 'number': '10006', 'name': 'Аристарх Павлов'}\n",
    "]"
   ]
  },
  {
   "cell_type": "code",
   "execution_count": 71,
   "metadata": {},
   "outputs": [],
   "source": [
    "directories = {\n",
    " '1': ['2207 876234', '11-2'],\n",
    " '2': ['10006'],\n",
    " '3': []\n",
    "}"
   ]
  },
  {
   "cell_type": "markdown",
   "metadata": {},
   "source": [
    "### Задание 1\n",
    "Пункт 1. Пользователь по команде \"p\" может узнать владельца документа по его номеру"
   ]
  },
  {
   "cell_type": "code",
   "execution_count": 50,
   "metadata": {},
   "outputs": [],
   "source": [
    "def spravka():\n",
    "    \"\"\"\n",
    "    Функция печати справки по программе\n",
    "    \"\"\"\n",
    "    print(\"\"\"\n",
    "    h - Справка по программе\n",
    "    q - выход из программы\n",
    "    \n",
    "    Основные:\n",
    "    p - узнать владельца по номеру документа\n",
    "    s - узнать полку по номеру документа\n",
    "    i - полная информация по всем документам\n",
    "    ads - добавить новую полку\n",
    "    ds - удалить существующую полку (только если она пустая)\n",
    "    \n",
    "    Дополнительные:\n",
    "    ad - добавить новый документ в данные\n",
    "    d - удалить документ из данных\n",
    "    m - переместить документ с полки на полку\n",
    "    \"\"\")"
   ]
  },
  {
   "cell_type": "code",
   "execution_count": 4,
   "metadata": {},
   "outputs": [],
   "source": [
    "def input_doc_num():\n",
    "    doc_num = input('Введите номер документа: ')\n",
    "    return doc_num"
   ]
  },
  {
   "cell_type": "code",
   "execution_count": 5,
   "metadata": {},
   "outputs": [],
   "source": [
    "def who_owner(doc_num):\n",
    "    \"\"\"\n",
    "    функция поиска владельца по номеру документа\n",
    "    \"\"\"\n",
    "    for line in documents:\n",
    "        if doc_num == line['number']:\n",
    "            print(line['name'])\n",
    "            return # если документ найден - выходим из функции\n",
    "    \n",
    "    # если дошли до этого места (не вышли из функции в цикле поиска), значит ничего не найдено\n",
    "    print('Документ не найден в базе') \n",
    "\n",
    "# who_owner('2207 876234')"
   ]
  },
  {
   "cell_type": "code",
   "execution_count": 6,
   "metadata": {},
   "outputs": [],
   "source": [
    "def what_shelf(doc_num):\n",
    "    \"\"\"\n",
    "    функция поиска номера полки на которой лежит документ по номеру документа\n",
    "    \"\"\"\n",
    "    for key in list(directories.keys()):\n",
    "        if doc_num in directories[key]:\n",
    "            return key # если докумен найден - возвращаем номер полки (ключ)"
   ]
  },
  {
   "cell_type": "code",
   "execution_count": 7,
   "metadata": {},
   "outputs": [],
   "source": [
    "def doc_info():\n",
    "    \"\"\"\n",
    "    функция выдает информацию по всем документам\n",
    "    \"\"\"\n",
    "    for line in documents:\n",
    "        print(f' №: {line[\"number\"]}, тип: {line[\"type\"]}, владелец: {line[\"name\"]}, полка хранения {what_shelf(line[\"number\"])}')"
   ]
  },
  {
   "cell_type": "code",
   "execution_count": 97,
   "metadata": {},
   "outputs": [
    {
     "data": {
      "text/plain": [
       "'Текущий перечень полок: 1, 2, 3, 4.'"
      ]
     },
     "execution_count": 97,
     "metadata": {},
     "output_type": "execute_result"
    }
   ],
   "source": [
    "def list_shelfs():\n",
    "        str_shelfs = 'Текущий перечень полок: '+\", \".join(list(directories.keys()))+'.'\n",
    "        return str_shelfs\n",
    "list_shelfs()"
   ]
  },
  {
   "cell_type": "code",
   "execution_count": 96,
   "metadata": {},
   "outputs": [
    {
     "name": "stdout",
     "output_type": "stream",
     "text": [
      "Такая полка уже существует. Текущий перечень полок: 1, 2, 3, 4.\n"
     ]
    }
   ],
   "source": [
    "def add_shelf(shelf_number):\n",
    "    \"\"\"\n",
    "    функция добавления полки, входной параметр - номер полки\n",
    "    \"\"\"\n",
    "    if shelf_number in directories.keys():\n",
    "        print(f'Такая полка уже существует. {list_shelfs()}')\n",
    "        return\n",
    "    directories[shelf_number] = []\n",
    "    print(f'Полка добавлена. {list_shelfs()}')\n",
    "add_shelf('4')"
   ]
  },
  {
   "cell_type": "code",
   "execution_count": 104,
   "metadata": {},
   "outputs": [
    {
     "name": "stdout",
     "output_type": "stream",
     "text": [
      "На полке есть документы, удалите их перед удалением полки. Текущий перечень полок: 1, 2, 3.\n"
     ]
    }
   ],
   "source": [
    "def del_shelf(shelf_number):\n",
    "    if directories[shelf_number] != []:\n",
    "        print(f'На полке есть документы, удалите их перед удалением полки. {list_shelfs()}')\n",
    "        return\n",
    "    del(directories[shelf_number])\n",
    "    print(f'Полка удалена. {list_shelfs()}')\n",
    "del_shelf('2')"
   ]
  },
  {
   "cell_type": "code",
   "execution_count": 105,
   "metadata": {},
   "outputs": [
    {
     "name": "stdout",
     "output_type": "stream",
     "text": [
      "Введите команду (h - справка по программе): ads\n",
      "Введите номер полки: 4\n",
      "Полка добавлена. Текущий перечень полок: 1, 2, 3, 4.\n",
      "Введите команду (h - справка по программе): ads\n",
      "Введите номер полки: 5\n",
      "Полка добавлена. Текущий перечень полок: 1, 2, 3, 4, 5.\n",
      "Введите команду (h - справка по программе): ds\n",
      "Введите номер полки: 4\n",
      "Полка удалена. Текущий перечень полок: 1, 2, 3, 5.\n",
      "Введите команду (h - справка по программе): q\n"
     ]
    }
   ],
   "source": [
    "def main():\n",
    "    \"\"\"\n",
    "    Функция работы программы \n",
    "    Запрашивает ввод команд\n",
    "    \"\"\"\n",
    "    # список возможных команд\n",
    "    cmd_list = ['h','q','p','s','i','ads','ds','ad','d','m']\n",
    "    \n",
    "    while True:    \n",
    "        cmd = input('Введите команду (h - справка по программе): ')\n",
    "        if cmd not in cmd_list:\n",
    "            print('Неизвестная команда, введите корректную команду. Для справки нажмите \"h\"')\n",
    "        else:\n",
    "            if cmd == 'h':\n",
    "                spravka()\n",
    "                \n",
    "            elif cmd == 'q':\n",
    "                break\n",
    "\n",
    "            # обязательная часть\n",
    "            \n",
    "            elif cmd == 'p': # модуль готов\n",
    "                doc_num = input_doc_num()\n",
    "                who_owner(doc_num)\n",
    "                \n",
    "            elif cmd == 's': # модуль готов\n",
    "                doc_num = input_doc_num()\n",
    "                shelf_num = what_shelf(doc_num)\n",
    "                if shelf_num == None: # я умышленно печатаю это здесь, а не внутри функциит.к. функция будет возвращать \n",
    "                                      # номер полки, с которыем в других частях программы может надо будет что-то сделать\n",
    "                    print('Документ не найден в базе')\n",
    "                else:\n",
    "                    print('Документ хранится на полке:', shelf_num)\n",
    "                    \n",
    "            elif cmd == 'i': # модуль готов\n",
    "                doc_info()\n",
    "                \n",
    "            elif cmd == 'ads': # модуль готов\n",
    "                shelf_num = input('Введите номер полки: ')\n",
    "                add_shelf(shelf_num)\n",
    "                \n",
    "            elif cmd == 'ds':\n",
    "                shelf_num = input('Введите номер полки: ')\n",
    "                del_shelf(shelf_num)\n",
    "            \n",
    "            # необязательная часть\n",
    "                \n",
    "            elif cmd == 'ad':\n",
    "                print('Данный модуль программы пока не готов')\n",
    "                \n",
    "            elif cmd == 'd':\n",
    "                print('Данный модуль программы пока не готов')\n",
    "                \n",
    "            elif cmd == 'm':\n",
    "                print('Данный модуль программы пока не готов')\n",
    "            \n",
    "main()"
   ]
  },
  {
   "cell_type": "code",
   "execution_count": 24,
   "metadata": {},
   "outputs": [
    {
     "name": "stdout",
     "output_type": "stream",
     "text": [
      "Help on function main in module __main__:\n",
      "\n",
      "main()\n",
      "    Функция работы программы \n",
      "    Запрашивает ввод команд\n",
      "\n"
     ]
    }
   ],
   "source": [
    "help(main)"
   ]
  }
 ],
 "metadata": {
  "kernelspec": {
   "display_name": "Python 3",
   "language": "python",
   "name": "python3"
  },
  "language_info": {
   "codemirror_mode": {
    "name": "ipython",
    "version": 3
   },
   "file_extension": ".py",
   "mimetype": "text/x-python",
   "name": "python",
   "nbconvert_exporter": "python",
   "pygments_lexer": "ipython3",
   "version": "3.8.5"
  }
 },
 "nbformat": 4,
 "nbformat_minor": 4
}
