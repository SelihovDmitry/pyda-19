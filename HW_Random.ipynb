{
 "cells": [
  {
   "cell_type": "markdown",
   "metadata": {},
   "source": [
    "## Основное задание\n",
    "Смоделировать игру против лотерейного автомата типа “777”. Игрок платит 1 руб., после чего выпадает случайное целое число, равномерно распределенное от 0 до 999. При некоторых значениях числа игрок получает выигрыш\n",
    "\n",
    "Выгодна ли игра игроку?\n",
    "\n",
    "Сколько в среднем приобретает\n",
    "или теряет игрок за одну игру?\n",
    "\n",
    "777: 200 руб.  \n",
    "999: 100 руб.  \n",
    "555: 50 руб.  \n",
    "333: 15 руб.  \n",
    "111: 10 руб.  \n",
    "x77: 5 руб.  \n",
    "xx7: 3 руб.  \n",
    "x00: 2 руб.  \n",
    "xx0: 1 руб.  \n",
    "\n",
    "x – любая цифра"
   ]
  },
  {
   "cell_type": "code",
   "execution_count": 1,
   "metadata": {},
   "outputs": [],
   "source": [
    "import numpy as np"
   ]
  },
  {
   "cell_type": "code",
   "execution_count": 44,
   "metadata": {},
   "outputs": [],
   "source": [
    "price = {\n",
    "    777: 200,\n",
    "    999: 100,\n",
    "    555: 50,\n",
    "    333: 15,\n",
    "    111: 10,\n",
    "    'x77': 5,\n",
    "    'xx7': 3,\n",
    "    'x00': 2,\n",
    "    'xx0': 1\n",
    "        }"
   ]
  },
  {
   "cell_type": "code",
   "execution_count": 179,
   "metadata": {},
   "outputs": [
    {
     "name": "stdout",
     "output_type": "stream",
     "text": [
      "Суммарный выигрыш составил: 7980035\n",
      "Внесено денег: 10000000\n",
      "Итоговый баланс будет: -2019965\n",
      "Wall time: 1min 1s\n"
     ]
    }
   ],
   "source": [
    "%%time\n",
    "trials = 10000000 # количество попыток (игр)\n",
    "cost = 1 # цена одной игры\n",
    "profit = 0 # суммарный выигрыш\n",
    "\n",
    "for i in range(trials):\n",
    "    number = np.random.randint(0, 1000)\n",
    "#     print(number)\n",
    "    if number in price.keys():\n",
    "        profit += price[number]\n",
    "        continue\n",
    "    if number % 100 == 77:\n",
    "        profit += price['x77']\n",
    "        continue\n",
    "    if number % 10 == 7:\n",
    "        profit += price['xx7']\n",
    "        continue\n",
    "    if number % 100 == 0:\n",
    "        profit += price['x00']\n",
    "        continue\n",
    "    if number % 10 == 0:\n",
    "        profit += price['xx0']\n",
    "        continue\n",
    "    \n",
    "print(f'Суммарный выигрыш составил: {profit}')\n",
    "print(f'Внесено денег: {cost * trials}')\n",
    "print(f'Итоговый баланс будет: {profit - cost * trials}')"
   ]
  },
  {
   "cell_type": "markdown",
   "metadata": {},
   "source": [
    "В целом видно, что результат соответствует рассчитанному теоретически (см. ниже)"
   ]
  },
  {
   "cell_type": "markdown",
   "metadata": {},
   "source": [
    "## Дополнительное задание повышенной сложности. \n",
    "Теоретически рассчитать средний выигрыш (проигрыш) и сравнить с результатами моделирования"
   ]
  },
  {
   "cell_type": "markdown",
   "metadata": {},
   "source": [
    "Суммарный выигрыш (проигрыш), а точнее можно просто посчитать каков доход с одной игры (ROI), для этого надо вероятность выпадения определенной комбинации (кол-во нужных комбинации / кол-во возможных комбинаций (в нашем случае возможных исходов 100) ) умножить на сумму приза за комбинацию и сложить все значения для каждой призовой комбинации.  \n",
    "Вероятность выпадения 777, 555, 333 или 111 = одной тысячной, т.е. 1 \\ 1000, вероятность,  \n",
    "х77 = 9 \\ 1000 (т.к. из выборки убираем 777),  \n",
    "xx7 = 90 \\ 1000 (т.к. из выборки убираем х77),  \n",
    "x00 = 10 \\ 1000 (10 а не 9, т.к. НЕ исключаем 000) и хх0 = 90 \\ 1000  \n",
    "Итого получаем:"
   ]
  },
  {
   "cell_type": "code",
   "execution_count": 172,
   "metadata": {},
   "outputs": [
    {
     "data": {
      "text/plain": [
       "0.8"
      ]
     },
     "execution_count": 172,
     "metadata": {},
     "output_type": "execute_result"
    }
   ],
   "source": [
    "value = (200 * (1 / 1000) + 100 * (1 / 1000) + 50 * (1 / 1000) + 15 * (1 / 1000) + 10 * (1 / 1000) +\n",
    "       5 * (9 / 1000) + 3 * (90 / 1000) + 2 * (10 / 1000) + 1 * (90 / 1000)\n",
    "      )\n",
    "value"
   ]
  },
  {
   "cell_type": "markdown",
   "metadata": {},
   "source": [
    "Получается что с одного вложенного рубля мы имеем 80 копеек выигрыша (в среднем), т.е. проигрыш с каждой игры будет 20 копеек (cost - ROI), сыграв 1000 игр - проиграем 200 рублей (в среднем), с 10 000 - 2000 итд."
   ]
  }
 ],
 "metadata": {
  "kernelspec": {
   "display_name": "Python 3",
   "language": "python",
   "name": "python3"
  },
  "language_info": {
   "codemirror_mode": {
    "name": "ipython",
    "version": 3
   },
   "file_extension": ".py",
   "mimetype": "text/x-python",
   "name": "python",
   "nbconvert_exporter": "python",
   "pygments_lexer": "ipython3",
   "version": "3.8.5"
  }
 },
 "nbformat": 4,
 "nbformat_minor": 4
}
